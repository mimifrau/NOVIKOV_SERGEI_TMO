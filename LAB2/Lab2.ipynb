{
 "cells": [
  {
   "cell_type": "markdown",
   "id": "61f0104c",
   "metadata": {},
   "source": [
    "# Задание лабораторной работы"
   ]
  },
  {
   "cell_type": "markdown",
   "id": "8a69da4b",
   "metadata": {},
   "source": [
    "-\tВыбрать набор данных (датасет), содержащий категориальные признаки и пропуски в данных. Для выполнения следующих пунктов можно использовать несколько различных наборов данных (один для обработки пропусков, другой для категориальных признаков и т.д.)\n",
    "-\tДля выбранного датасета (датасетов) на основе материалов лекции решить следующие задачи: обработку пропусков в данных; кодирование категориальных признаков; масштабирование данных."
   ]
  },
  {
   "cell_type": "markdown",
   "id": "953d6556",
   "metadata": {},
   "source": [
    "# Ячейки Jupyter-ноутбука"
   ]
  },
  {
   "cell_type": "markdown",
   "id": "b60fced9",
   "metadata": {},
   "source": [
    "## Выбор и загрузка данных"
   ]
  },
  {
   "cell_type": "markdown",
   "id": "2aeedf3d",
   "metadata": {},
   "source": [
    "В качестве датасета будем использовать набор данных, содержащий данные по продажам автомобилей в США. Данный набор доступен по адресу: https://www.kaggle.com/datasets/gagandeep16/car-sales"
   ]
  },
  {
   "cell_type": "markdown",
   "id": "ab428460",
   "metadata": {},
   "source": [
    "Набор данных имеет следующие атрибуты:"
   ]
  },
  {
   "cell_type": "markdown",
   "id": "17b66e69",
   "metadata": {},
   "source": [
    "- Manufacturer - марка\n",
    "- Model - модель\n",
    "- Sales_in_thousands - продажи в тысячах\n",
    "- year_resale_value - годовой объем продаж\n",
    "- Vehicle_type - тип автомобиля\n",
    "- Price_in_thousands - цена в тысячах\n",
    "- Engine_size - объем двигателя\n",
    "- Horsepower - лошадиные силы\n",
    "- Wheelbase - колесная база\n",
    "- Width - ширина\n",
    "- Length - длина\n",
    "- Curb_weight - масса\n",
    "- Fuel_capacity - топливный бак\n",
    "- Fuel_efficiency - расход топлива\n",
    "- Latest_Launch - начало производства модели\n",
    "- Power_perf_factor - мощностной коэффициент"
   ]
  },
  {
   "cell_type": "markdown",
   "id": "6bfdc9dc",
   "metadata": {},
   "source": [
    "### Импорт библиотек"
   ]
  },
  {
   "cell_type": "markdown",
   "id": "1acbb3a0",
   "metadata": {},
   "source": [
    "Импортируем библиотеки с помощью команды import:"
   ]
  },
  {
   "cell_type": "code",
   "execution_count": 1,
   "id": "386d432d",
   "metadata": {},
   "outputs": [],
   "source": [
    "import numpy as np\n",
    "import pandas as pd\n",
    "import seaborn as sns\n",
    "import matplotlib.pyplot as plt\n",
    "%matplotlib inline\n",
    "sns.set(style=\"ticks\")"
   ]
  },
  {
   "cell_type": "markdown",
   "id": "1104311e",
   "metadata": {},
   "source": [
    "### Загрузка данных"
   ]
  },
  {
   "cell_type": "markdown",
   "id": "f0a50012",
   "metadata": {},
   "source": [
    "Загрузим набор данных:"
   ]
  },
  {
   "cell_type": "code",
   "execution_count": 2,
   "id": "3d6f1637",
   "metadata": {},
   "outputs": [],
   "source": [
    "data = pd.read_csv('Car_sales.csv')"
   ]
  },
  {
   "cell_type": "markdown",
   "id": "60b499dd",
   "metadata": {},
   "source": [
    "## Первичный анализ данных"
   ]
  },
  {
   "cell_type": "markdown",
   "id": "f8fb4fca",
   "metadata": {},
   "source": [
    "Выведем первые 5 строк датасета:"
   ]
  },
  {
   "cell_type": "code",
   "execution_count": 3,
   "id": "03f7dae5",
   "metadata": {},
   "outputs": [
    {
     "data": {
      "text/html": [
       "<div>\n",
       "<style scoped>\n",
       "    .dataframe tbody tr th:only-of-type {\n",
       "        vertical-align: middle;\n",
       "    }\n",
       "\n",
       "    .dataframe tbody tr th {\n",
       "        vertical-align: top;\n",
       "    }\n",
       "\n",
       "    .dataframe thead th {\n",
       "        text-align: right;\n",
       "    }\n",
       "</style>\n",
       "<table border=\"1\" class=\"dataframe\">\n",
       "  <thead>\n",
       "    <tr style=\"text-align: right;\">\n",
       "      <th></th>\n",
       "      <th>Manufacturer</th>\n",
       "      <th>Model</th>\n",
       "      <th>Sales_in_thousands</th>\n",
       "      <th>__year_resale_value</th>\n",
       "      <th>Vehicle_type</th>\n",
       "      <th>Price_in_thousands</th>\n",
       "      <th>Engine_size</th>\n",
       "      <th>Horsepower</th>\n",
       "      <th>Wheelbase</th>\n",
       "      <th>Width</th>\n",
       "      <th>Length</th>\n",
       "      <th>Curb_weight</th>\n",
       "      <th>Fuel_capacity</th>\n",
       "      <th>Fuel_efficiency</th>\n",
       "      <th>Latest_Launch</th>\n",
       "      <th>Power_perf_factor</th>\n",
       "    </tr>\n",
       "  </thead>\n",
       "  <tbody>\n",
       "    <tr>\n",
       "      <th>0</th>\n",
       "      <td>Acura</td>\n",
       "      <td>Integra</td>\n",
       "      <td>16.919</td>\n",
       "      <td>16.360</td>\n",
       "      <td>Passenger</td>\n",
       "      <td>21.50</td>\n",
       "      <td>1.8</td>\n",
       "      <td>140.0</td>\n",
       "      <td>101.2</td>\n",
       "      <td>67.3</td>\n",
       "      <td>172.4</td>\n",
       "      <td>2.639</td>\n",
       "      <td>13.2</td>\n",
       "      <td>28.0</td>\n",
       "      <td>2/2/2012</td>\n",
       "      <td>58.280150</td>\n",
       "    </tr>\n",
       "    <tr>\n",
       "      <th>1</th>\n",
       "      <td>Acura</td>\n",
       "      <td>TL</td>\n",
       "      <td>39.384</td>\n",
       "      <td>19.875</td>\n",
       "      <td>Passenger</td>\n",
       "      <td>28.40</td>\n",
       "      <td>3.2</td>\n",
       "      <td>225.0</td>\n",
       "      <td>108.1</td>\n",
       "      <td>70.3</td>\n",
       "      <td>192.9</td>\n",
       "      <td>3.517</td>\n",
       "      <td>17.2</td>\n",
       "      <td>25.0</td>\n",
       "      <td>6/3/2011</td>\n",
       "      <td>91.370778</td>\n",
       "    </tr>\n",
       "    <tr>\n",
       "      <th>2</th>\n",
       "      <td>Acura</td>\n",
       "      <td>CL</td>\n",
       "      <td>14.114</td>\n",
       "      <td>18.225</td>\n",
       "      <td>Passenger</td>\n",
       "      <td>NaN</td>\n",
       "      <td>3.2</td>\n",
       "      <td>225.0</td>\n",
       "      <td>106.9</td>\n",
       "      <td>70.6</td>\n",
       "      <td>192.0</td>\n",
       "      <td>3.470</td>\n",
       "      <td>17.2</td>\n",
       "      <td>26.0</td>\n",
       "      <td>1/4/2012</td>\n",
       "      <td>NaN</td>\n",
       "    </tr>\n",
       "    <tr>\n",
       "      <th>3</th>\n",
       "      <td>Acura</td>\n",
       "      <td>RL</td>\n",
       "      <td>8.588</td>\n",
       "      <td>29.725</td>\n",
       "      <td>Passenger</td>\n",
       "      <td>42.00</td>\n",
       "      <td>3.5</td>\n",
       "      <td>210.0</td>\n",
       "      <td>114.6</td>\n",
       "      <td>71.4</td>\n",
       "      <td>196.6</td>\n",
       "      <td>3.850</td>\n",
       "      <td>18.0</td>\n",
       "      <td>22.0</td>\n",
       "      <td>3/10/2011</td>\n",
       "      <td>91.389779</td>\n",
       "    </tr>\n",
       "    <tr>\n",
       "      <th>4</th>\n",
       "      <td>Audi</td>\n",
       "      <td>A4</td>\n",
       "      <td>20.397</td>\n",
       "      <td>22.255</td>\n",
       "      <td>Passenger</td>\n",
       "      <td>23.99</td>\n",
       "      <td>1.8</td>\n",
       "      <td>150.0</td>\n",
       "      <td>102.6</td>\n",
       "      <td>68.2</td>\n",
       "      <td>178.0</td>\n",
       "      <td>2.998</td>\n",
       "      <td>16.4</td>\n",
       "      <td>27.0</td>\n",
       "      <td>10/8/2011</td>\n",
       "      <td>62.777639</td>\n",
       "    </tr>\n",
       "  </tbody>\n",
       "</table>\n",
       "</div>"
      ],
      "text/plain": [
       "  Manufacturer    Model  Sales_in_thousands  __year_resale_value Vehicle_type  \\\n",
       "0        Acura  Integra              16.919               16.360    Passenger   \n",
       "1        Acura       TL              39.384               19.875    Passenger   \n",
       "2        Acura       CL              14.114               18.225    Passenger   \n",
       "3        Acura       RL               8.588               29.725    Passenger   \n",
       "4         Audi       A4              20.397               22.255    Passenger   \n",
       "\n",
       "   Price_in_thousands  Engine_size  Horsepower  Wheelbase  Width  Length  \\\n",
       "0               21.50          1.8       140.0      101.2   67.3   172.4   \n",
       "1               28.40          3.2       225.0      108.1   70.3   192.9   \n",
       "2                 NaN          3.2       225.0      106.9   70.6   192.0   \n",
       "3               42.00          3.5       210.0      114.6   71.4   196.6   \n",
       "4               23.99          1.8       150.0      102.6   68.2   178.0   \n",
       "\n",
       "   Curb_weight  Fuel_capacity  Fuel_efficiency Latest_Launch  \\\n",
       "0        2.639           13.2             28.0      2/2/2012   \n",
       "1        3.517           17.2             25.0      6/3/2011   \n",
       "2        3.470           17.2             26.0      1/4/2012   \n",
       "3        3.850           18.0             22.0     3/10/2011   \n",
       "4        2.998           16.4             27.0     10/8/2011   \n",
       "\n",
       "   Power_perf_factor  \n",
       "0          58.280150  \n",
       "1          91.370778  \n",
       "2                NaN  \n",
       "3          91.389779  \n",
       "4          62.777639  "
      ]
     },
     "execution_count": 3,
     "metadata": {},
     "output_type": "execute_result"
    }
   ],
   "source": [
    "data.head()"
   ]
  },
  {
   "cell_type": "markdown",
   "id": "121c4b68",
   "metadata": {},
   "source": [
    "Определим размер датасета:"
   ]
  },
  {
   "cell_type": "code",
   "execution_count": 4,
   "id": "abbd46ff",
   "metadata": {},
   "outputs": [
    {
     "data": {
      "text/plain": [
       "(157, 16)"
      ]
     },
     "execution_count": 4,
     "metadata": {},
     "output_type": "execute_result"
    }
   ],
   "source": [
    "data.shape"
   ]
  },
  {
   "cell_type": "markdown",
   "id": "4af48dbc",
   "metadata": {},
   "source": [
    "В датасете 157 строк и 16 столбцов. Определим тип столбцов:"
   ]
  },
  {
   "cell_type": "code",
   "execution_count": 5,
   "id": "b647ca92",
   "metadata": {},
   "outputs": [
    {
     "data": {
      "text/plain": [
       "Manufacturer            object\n",
       "Model                   object\n",
       "Sales_in_thousands     float64\n",
       "__year_resale_value    float64\n",
       "Vehicle_type            object\n",
       "Price_in_thousands     float64\n",
       "Engine_size            float64\n",
       "Horsepower             float64\n",
       "Wheelbase              float64\n",
       "Width                  float64\n",
       "Length                 float64\n",
       "Curb_weight            float64\n",
       "Fuel_capacity          float64\n",
       "Fuel_efficiency        float64\n",
       "Latest_Launch           object\n",
       "Power_perf_factor      float64\n",
       "dtype: object"
      ]
     },
     "execution_count": 5,
     "metadata": {},
     "output_type": "execute_result"
    }
   ],
   "source": [
    "data.dtypes"
   ]
  },
  {
   "cell_type": "markdown",
   "id": "8e606267",
   "metadata": {},
   "source": [
    "Проверим наличие пропусков:"
   ]
  },
  {
   "cell_type": "code",
   "execution_count": 6,
   "id": "4b4e3694",
   "metadata": {},
   "outputs": [
    {
     "data": {
      "text/plain": [
       "Manufacturer            0\n",
       "Model                   0\n",
       "Sales_in_thousands      0\n",
       "__year_resale_value    36\n",
       "Vehicle_type            0\n",
       "Price_in_thousands      2\n",
       "Engine_size             1\n",
       "Horsepower              1\n",
       "Wheelbase               1\n",
       "Width                   1\n",
       "Length                  1\n",
       "Curb_weight             2\n",
       "Fuel_capacity           1\n",
       "Fuel_efficiency         3\n",
       "Latest_Launch           0\n",
       "Power_perf_factor       2\n",
       "dtype: int64"
      ]
     },
     "execution_count": 6,
     "metadata": {},
     "output_type": "execute_result"
    }
   ],
   "source": [
    "data.isnull().sum()"
   ]
  },
  {
   "cell_type": "markdown",
   "id": "ffcd4479",
   "metadata": {},
   "source": [
    "Видим, что пропуски наблюдаются в множестве столбцов."
   ]
  },
  {
   "cell_type": "markdown",
   "id": "afa27ed8",
   "metadata": {},
   "source": [
    "## Обработка пропусков данных"
   ]
  },
  {
   "cell_type": "markdown",
   "id": "fe708e4f",
   "metadata": {},
   "source": [
    "Удалим колонки, содержащие пустые значения:"
   ]
  },
  {
   "cell_type": "code",
   "execution_count": 7,
   "id": "8f1c3cba",
   "metadata": {},
   "outputs": [
    {
     "data": {
      "text/plain": [
       "((157, 16), (157, 5))"
      ]
     },
     "execution_count": 7,
     "metadata": {},
     "output_type": "execute_result"
    }
   ],
   "source": [
    "data_new_1 = data.dropna(axis=1, how='any')\n",
    "(data.shape, data_new_1.shape)"
   ]
  },
  {
   "cell_type": "markdown",
   "id": "f1da1e78",
   "metadata": {},
   "source": [
    "Выведем первые строки датасета на экран:"
   ]
  },
  {
   "cell_type": "code",
   "execution_count": 8,
   "id": "b55d050b",
   "metadata": {},
   "outputs": [
    {
     "data": {
      "text/html": [
       "<div>\n",
       "<style scoped>\n",
       "    .dataframe tbody tr th:only-of-type {\n",
       "        vertical-align: middle;\n",
       "    }\n",
       "\n",
       "    .dataframe tbody tr th {\n",
       "        vertical-align: top;\n",
       "    }\n",
       "\n",
       "    .dataframe thead th {\n",
       "        text-align: right;\n",
       "    }\n",
       "</style>\n",
       "<table border=\"1\" class=\"dataframe\">\n",
       "  <thead>\n",
       "    <tr style=\"text-align: right;\">\n",
       "      <th></th>\n",
       "      <th>Manufacturer</th>\n",
       "      <th>Model</th>\n",
       "      <th>Sales_in_thousands</th>\n",
       "      <th>Vehicle_type</th>\n",
       "      <th>Latest_Launch</th>\n",
       "    </tr>\n",
       "  </thead>\n",
       "  <tbody>\n",
       "    <tr>\n",
       "      <th>0</th>\n",
       "      <td>Acura</td>\n",
       "      <td>Integra</td>\n",
       "      <td>16.919</td>\n",
       "      <td>Passenger</td>\n",
       "      <td>2/2/2012</td>\n",
       "    </tr>\n",
       "    <tr>\n",
       "      <th>1</th>\n",
       "      <td>Acura</td>\n",
       "      <td>TL</td>\n",
       "      <td>39.384</td>\n",
       "      <td>Passenger</td>\n",
       "      <td>6/3/2011</td>\n",
       "    </tr>\n",
       "    <tr>\n",
       "      <th>2</th>\n",
       "      <td>Acura</td>\n",
       "      <td>CL</td>\n",
       "      <td>14.114</td>\n",
       "      <td>Passenger</td>\n",
       "      <td>1/4/2012</td>\n",
       "    </tr>\n",
       "    <tr>\n",
       "      <th>3</th>\n",
       "      <td>Acura</td>\n",
       "      <td>RL</td>\n",
       "      <td>8.588</td>\n",
       "      <td>Passenger</td>\n",
       "      <td>3/10/2011</td>\n",
       "    </tr>\n",
       "    <tr>\n",
       "      <th>4</th>\n",
       "      <td>Audi</td>\n",
       "      <td>A4</td>\n",
       "      <td>20.397</td>\n",
       "      <td>Passenger</td>\n",
       "      <td>10/8/2011</td>\n",
       "    </tr>\n",
       "    <tr>\n",
       "      <th>...</th>\n",
       "      <td>...</td>\n",
       "      <td>...</td>\n",
       "      <td>...</td>\n",
       "      <td>...</td>\n",
       "      <td>...</td>\n",
       "    </tr>\n",
       "    <tr>\n",
       "      <th>152</th>\n",
       "      <td>Volvo</td>\n",
       "      <td>V40</td>\n",
       "      <td>3.545</td>\n",
       "      <td>Passenger</td>\n",
       "      <td>9/21/2011</td>\n",
       "    </tr>\n",
       "    <tr>\n",
       "      <th>153</th>\n",
       "      <td>Volvo</td>\n",
       "      <td>S70</td>\n",
       "      <td>15.245</td>\n",
       "      <td>Passenger</td>\n",
       "      <td>11/24/2012</td>\n",
       "    </tr>\n",
       "    <tr>\n",
       "      <th>154</th>\n",
       "      <td>Volvo</td>\n",
       "      <td>V70</td>\n",
       "      <td>17.531</td>\n",
       "      <td>Passenger</td>\n",
       "      <td>6/25/2011</td>\n",
       "    </tr>\n",
       "    <tr>\n",
       "      <th>155</th>\n",
       "      <td>Volvo</td>\n",
       "      <td>C70</td>\n",
       "      <td>3.493</td>\n",
       "      <td>Passenger</td>\n",
       "      <td>4/26/2011</td>\n",
       "    </tr>\n",
       "    <tr>\n",
       "      <th>156</th>\n",
       "      <td>Volvo</td>\n",
       "      <td>S80</td>\n",
       "      <td>18.969</td>\n",
       "      <td>Passenger</td>\n",
       "      <td>11/14/2011</td>\n",
       "    </tr>\n",
       "  </tbody>\n",
       "</table>\n",
       "<p>157 rows × 5 columns</p>\n",
       "</div>"
      ],
      "text/plain": [
       "    Manufacturer    Model  Sales_in_thousands Vehicle_type Latest_Launch\n",
       "0          Acura  Integra              16.919    Passenger      2/2/2012\n",
       "1          Acura       TL              39.384    Passenger      6/3/2011\n",
       "2          Acura       CL              14.114    Passenger      1/4/2012\n",
       "3          Acura       RL               8.588    Passenger     3/10/2011\n",
       "4           Audi       A4              20.397    Passenger     10/8/2011\n",
       "..           ...      ...                 ...          ...           ...\n",
       "152        Volvo      V40               3.545    Passenger     9/21/2011\n",
       "153        Volvo      S70              15.245    Passenger    11/24/2012\n",
       "154        Volvo      V70              17.531    Passenger     6/25/2011\n",
       "155        Volvo      C70               3.493    Passenger     4/26/2011\n",
       "156        Volvo      S80              18.969    Passenger    11/14/2011\n",
       "\n",
       "[157 rows x 5 columns]"
      ]
     },
     "execution_count": 8,
     "metadata": {},
     "output_type": "execute_result"
    }
   ],
   "source": [
    "data_new_1"
   ]
  },
  {
   "cell_type": "markdown",
   "id": "495ced66",
   "metadata": {},
   "source": [
    "Удалим строки, содержащие пустые значения:"
   ]
  },
  {
   "cell_type": "code",
   "execution_count": 9,
   "id": "8cd1e096",
   "metadata": {},
   "outputs": [
    {
     "data": {
      "text/plain": [
       "((157, 16), (117, 16))"
      ]
     },
     "execution_count": 9,
     "metadata": {},
     "output_type": "execute_result"
    }
   ],
   "source": [
    "data_new_2 = data.dropna(axis=0, how='any')\n",
    "(data.shape, data_new_2.shape)"
   ]
  },
  {
   "cell_type": "code",
   "execution_count": 10,
   "id": "9780178c",
   "metadata": {},
   "outputs": [
    {
     "data": {
      "text/html": [
       "<div>\n",
       "<style scoped>\n",
       "    .dataframe tbody tr th:only-of-type {\n",
       "        vertical-align: middle;\n",
       "    }\n",
       "\n",
       "    .dataframe tbody tr th {\n",
       "        vertical-align: top;\n",
       "    }\n",
       "\n",
       "    .dataframe thead th {\n",
       "        text-align: right;\n",
       "    }\n",
       "</style>\n",
       "<table border=\"1\" class=\"dataframe\">\n",
       "  <thead>\n",
       "    <tr style=\"text-align: right;\">\n",
       "      <th></th>\n",
       "      <th>Manufacturer</th>\n",
       "      <th>Model</th>\n",
       "      <th>Sales_in_thousands</th>\n",
       "      <th>__year_resale_value</th>\n",
       "      <th>Vehicle_type</th>\n",
       "      <th>Price_in_thousands</th>\n",
       "      <th>Engine_size</th>\n",
       "      <th>Horsepower</th>\n",
       "      <th>Wheelbase</th>\n",
       "      <th>Width</th>\n",
       "      <th>Length</th>\n",
       "      <th>Curb_weight</th>\n",
       "      <th>Fuel_capacity</th>\n",
       "      <th>Fuel_efficiency</th>\n",
       "      <th>Latest_Launch</th>\n",
       "      <th>Power_perf_factor</th>\n",
       "    </tr>\n",
       "  </thead>\n",
       "  <tbody>\n",
       "    <tr>\n",
       "      <th>0</th>\n",
       "      <td>Acura</td>\n",
       "      <td>Integra</td>\n",
       "      <td>16.919</td>\n",
       "      <td>16.360</td>\n",
       "      <td>Passenger</td>\n",
       "      <td>21.50</td>\n",
       "      <td>1.8</td>\n",
       "      <td>140.0</td>\n",
       "      <td>101.2</td>\n",
       "      <td>67.3</td>\n",
       "      <td>172.4</td>\n",
       "      <td>2.639</td>\n",
       "      <td>13.2</td>\n",
       "      <td>28.0</td>\n",
       "      <td>2/2/2012</td>\n",
       "      <td>58.280150</td>\n",
       "    </tr>\n",
       "    <tr>\n",
       "      <th>1</th>\n",
       "      <td>Acura</td>\n",
       "      <td>TL</td>\n",
       "      <td>39.384</td>\n",
       "      <td>19.875</td>\n",
       "      <td>Passenger</td>\n",
       "      <td>28.40</td>\n",
       "      <td>3.2</td>\n",
       "      <td>225.0</td>\n",
       "      <td>108.1</td>\n",
       "      <td>70.3</td>\n",
       "      <td>192.9</td>\n",
       "      <td>3.517</td>\n",
       "      <td>17.2</td>\n",
       "      <td>25.0</td>\n",
       "      <td>6/3/2011</td>\n",
       "      <td>91.370778</td>\n",
       "    </tr>\n",
       "    <tr>\n",
       "      <th>3</th>\n",
       "      <td>Acura</td>\n",
       "      <td>RL</td>\n",
       "      <td>8.588</td>\n",
       "      <td>29.725</td>\n",
       "      <td>Passenger</td>\n",
       "      <td>42.00</td>\n",
       "      <td>3.5</td>\n",
       "      <td>210.0</td>\n",
       "      <td>114.6</td>\n",
       "      <td>71.4</td>\n",
       "      <td>196.6</td>\n",
       "      <td>3.850</td>\n",
       "      <td>18.0</td>\n",
       "      <td>22.0</td>\n",
       "      <td>3/10/2011</td>\n",
       "      <td>91.389779</td>\n",
       "    </tr>\n",
       "    <tr>\n",
       "      <th>4</th>\n",
       "      <td>Audi</td>\n",
       "      <td>A4</td>\n",
       "      <td>20.397</td>\n",
       "      <td>22.255</td>\n",
       "      <td>Passenger</td>\n",
       "      <td>23.99</td>\n",
       "      <td>1.8</td>\n",
       "      <td>150.0</td>\n",
       "      <td>102.6</td>\n",
       "      <td>68.2</td>\n",
       "      <td>178.0</td>\n",
       "      <td>2.998</td>\n",
       "      <td>16.4</td>\n",
       "      <td>27.0</td>\n",
       "      <td>10/8/2011</td>\n",
       "      <td>62.777639</td>\n",
       "    </tr>\n",
       "    <tr>\n",
       "      <th>5</th>\n",
       "      <td>Audi</td>\n",
       "      <td>A6</td>\n",
       "      <td>18.780</td>\n",
       "      <td>23.555</td>\n",
       "      <td>Passenger</td>\n",
       "      <td>33.95</td>\n",
       "      <td>2.8</td>\n",
       "      <td>200.0</td>\n",
       "      <td>108.7</td>\n",
       "      <td>76.1</td>\n",
       "      <td>192.0</td>\n",
       "      <td>3.561</td>\n",
       "      <td>18.5</td>\n",
       "      <td>22.0</td>\n",
       "      <td>8/9/2011</td>\n",
       "      <td>84.565105</td>\n",
       "    </tr>\n",
       "  </tbody>\n",
       "</table>\n",
       "</div>"
      ],
      "text/plain": [
       "  Manufacturer    Model  Sales_in_thousands  __year_resale_value Vehicle_type  \\\n",
       "0        Acura  Integra              16.919               16.360    Passenger   \n",
       "1        Acura       TL              39.384               19.875    Passenger   \n",
       "3        Acura       RL               8.588               29.725    Passenger   \n",
       "4         Audi       A4              20.397               22.255    Passenger   \n",
       "5         Audi       A6              18.780               23.555    Passenger   \n",
       "\n",
       "   Price_in_thousands  Engine_size  Horsepower  Wheelbase  Width  Length  \\\n",
       "0               21.50          1.8       140.0      101.2   67.3   172.4   \n",
       "1               28.40          3.2       225.0      108.1   70.3   192.9   \n",
       "3               42.00          3.5       210.0      114.6   71.4   196.6   \n",
       "4               23.99          1.8       150.0      102.6   68.2   178.0   \n",
       "5               33.95          2.8       200.0      108.7   76.1   192.0   \n",
       "\n",
       "   Curb_weight  Fuel_capacity  Fuel_efficiency Latest_Launch  \\\n",
       "0        2.639           13.2             28.0      2/2/2012   \n",
       "1        3.517           17.2             25.0      6/3/2011   \n",
       "3        3.850           18.0             22.0     3/10/2011   \n",
       "4        2.998           16.4             27.0     10/8/2011   \n",
       "5        3.561           18.5             22.0      8/9/2011   \n",
       "\n",
       "   Power_perf_factor  \n",
       "0          58.280150  \n",
       "1          91.370778  \n",
       "3          91.389779  \n",
       "4          62.777639  \n",
       "5          84.565105  "
      ]
     },
     "execution_count": 10,
     "metadata": {},
     "output_type": "execute_result"
    }
   ],
   "source": [
    "data_new_2.head()"
   ]
  },
  {
   "cell_type": "markdown",
   "id": "557870f4",
   "metadata": {},
   "source": [
    "Заполним все пропущенные значения нулями:"
   ]
  },
  {
   "cell_type": "code",
   "execution_count": 11,
   "id": "970cba5a",
   "metadata": {},
   "outputs": [],
   "source": [
    "data_new_3 = data.fillna(0)"
   ]
  },
  {
   "cell_type": "markdown",
   "id": "19e8823b",
   "metadata": {},
   "source": [
    "Выведем на экран:"
   ]
  },
  {
   "cell_type": "code",
   "execution_count": 12,
   "id": "bff7889e",
   "metadata": {},
   "outputs": [
    {
     "data": {
      "text/html": [
       "<div>\n",
       "<style scoped>\n",
       "    .dataframe tbody tr th:only-of-type {\n",
       "        vertical-align: middle;\n",
       "    }\n",
       "\n",
       "    .dataframe tbody tr th {\n",
       "        vertical-align: top;\n",
       "    }\n",
       "\n",
       "    .dataframe thead th {\n",
       "        text-align: right;\n",
       "    }\n",
       "</style>\n",
       "<table border=\"1\" class=\"dataframe\">\n",
       "  <thead>\n",
       "    <tr style=\"text-align: right;\">\n",
       "      <th></th>\n",
       "      <th>Manufacturer</th>\n",
       "      <th>Model</th>\n",
       "      <th>Sales_in_thousands</th>\n",
       "      <th>__year_resale_value</th>\n",
       "      <th>Vehicle_type</th>\n",
       "      <th>Price_in_thousands</th>\n",
       "      <th>Engine_size</th>\n",
       "      <th>Horsepower</th>\n",
       "      <th>Wheelbase</th>\n",
       "      <th>Width</th>\n",
       "      <th>Length</th>\n",
       "      <th>Curb_weight</th>\n",
       "      <th>Fuel_capacity</th>\n",
       "      <th>Fuel_efficiency</th>\n",
       "      <th>Latest_Launch</th>\n",
       "      <th>Power_perf_factor</th>\n",
       "    </tr>\n",
       "  </thead>\n",
       "  <tbody>\n",
       "    <tr>\n",
       "      <th>0</th>\n",
       "      <td>Acura</td>\n",
       "      <td>Integra</td>\n",
       "      <td>16.919</td>\n",
       "      <td>16.360</td>\n",
       "      <td>Passenger</td>\n",
       "      <td>21.50</td>\n",
       "      <td>1.8</td>\n",
       "      <td>140.0</td>\n",
       "      <td>101.2</td>\n",
       "      <td>67.3</td>\n",
       "      <td>172.4</td>\n",
       "      <td>2.639</td>\n",
       "      <td>13.2</td>\n",
       "      <td>28.0</td>\n",
       "      <td>2/2/2012</td>\n",
       "      <td>58.280150</td>\n",
       "    </tr>\n",
       "    <tr>\n",
       "      <th>1</th>\n",
       "      <td>Acura</td>\n",
       "      <td>TL</td>\n",
       "      <td>39.384</td>\n",
       "      <td>19.875</td>\n",
       "      <td>Passenger</td>\n",
       "      <td>28.40</td>\n",
       "      <td>3.2</td>\n",
       "      <td>225.0</td>\n",
       "      <td>108.1</td>\n",
       "      <td>70.3</td>\n",
       "      <td>192.9</td>\n",
       "      <td>3.517</td>\n",
       "      <td>17.2</td>\n",
       "      <td>25.0</td>\n",
       "      <td>6/3/2011</td>\n",
       "      <td>91.370778</td>\n",
       "    </tr>\n",
       "    <tr>\n",
       "      <th>2</th>\n",
       "      <td>Acura</td>\n",
       "      <td>CL</td>\n",
       "      <td>14.114</td>\n",
       "      <td>18.225</td>\n",
       "      <td>Passenger</td>\n",
       "      <td>0.00</td>\n",
       "      <td>3.2</td>\n",
       "      <td>225.0</td>\n",
       "      <td>106.9</td>\n",
       "      <td>70.6</td>\n",
       "      <td>192.0</td>\n",
       "      <td>3.470</td>\n",
       "      <td>17.2</td>\n",
       "      <td>26.0</td>\n",
       "      <td>1/4/2012</td>\n",
       "      <td>0.000000</td>\n",
       "    </tr>\n",
       "    <tr>\n",
       "      <th>3</th>\n",
       "      <td>Acura</td>\n",
       "      <td>RL</td>\n",
       "      <td>8.588</td>\n",
       "      <td>29.725</td>\n",
       "      <td>Passenger</td>\n",
       "      <td>42.00</td>\n",
       "      <td>3.5</td>\n",
       "      <td>210.0</td>\n",
       "      <td>114.6</td>\n",
       "      <td>71.4</td>\n",
       "      <td>196.6</td>\n",
       "      <td>3.850</td>\n",
       "      <td>18.0</td>\n",
       "      <td>22.0</td>\n",
       "      <td>3/10/2011</td>\n",
       "      <td>91.389779</td>\n",
       "    </tr>\n",
       "    <tr>\n",
       "      <th>4</th>\n",
       "      <td>Audi</td>\n",
       "      <td>A4</td>\n",
       "      <td>20.397</td>\n",
       "      <td>22.255</td>\n",
       "      <td>Passenger</td>\n",
       "      <td>23.99</td>\n",
       "      <td>1.8</td>\n",
       "      <td>150.0</td>\n",
       "      <td>102.6</td>\n",
       "      <td>68.2</td>\n",
       "      <td>178.0</td>\n",
       "      <td>2.998</td>\n",
       "      <td>16.4</td>\n",
       "      <td>27.0</td>\n",
       "      <td>10/8/2011</td>\n",
       "      <td>62.777639</td>\n",
       "    </tr>\n",
       "  </tbody>\n",
       "</table>\n",
       "</div>"
      ],
      "text/plain": [
       "  Manufacturer    Model  Sales_in_thousands  __year_resale_value Vehicle_type  \\\n",
       "0        Acura  Integra              16.919               16.360    Passenger   \n",
       "1        Acura       TL              39.384               19.875    Passenger   \n",
       "2        Acura       CL              14.114               18.225    Passenger   \n",
       "3        Acura       RL               8.588               29.725    Passenger   \n",
       "4         Audi       A4              20.397               22.255    Passenger   \n",
       "\n",
       "   Price_in_thousands  Engine_size  Horsepower  Wheelbase  Width  Length  \\\n",
       "0               21.50          1.8       140.0      101.2   67.3   172.4   \n",
       "1               28.40          3.2       225.0      108.1   70.3   192.9   \n",
       "2                0.00          3.2       225.0      106.9   70.6   192.0   \n",
       "3               42.00          3.5       210.0      114.6   71.4   196.6   \n",
       "4               23.99          1.8       150.0      102.6   68.2   178.0   \n",
       "\n",
       "   Curb_weight  Fuel_capacity  Fuel_efficiency Latest_Launch  \\\n",
       "0        2.639           13.2             28.0      2/2/2012   \n",
       "1        3.517           17.2             25.0      6/3/2011   \n",
       "2        3.470           17.2             26.0      1/4/2012   \n",
       "3        3.850           18.0             22.0     3/10/2011   \n",
       "4        2.998           16.4             27.0     10/8/2011   \n",
       "\n",
       "   Power_perf_factor  \n",
       "0          58.280150  \n",
       "1          91.370778  \n",
       "2           0.000000  \n",
       "3          91.389779  \n",
       "4          62.777639  "
      ]
     },
     "execution_count": 12,
     "metadata": {},
     "output_type": "execute_result"
    }
   ],
   "source": [
    "data_new_3.head()"
   ]
  },
  {
   "cell_type": "markdown",
   "id": "820b6a35",
   "metadata": {},
   "source": [
    "### Импьютация данных"
   ]
  },
  {
   "cell_type": "markdown",
   "id": "16a4d6c7",
   "metadata": {},
   "source": [
    "### Обработка пропусков в числовых данных"
   ]
  },
  {
   "cell_type": "markdown",
   "id": "1e0e79ca",
   "metadata": {},
   "source": [
    "Выберем числовые столбцы с пропущенными значениями и посчитаем количество пустых значений:"
   ]
  },
  {
   "cell_type": "code",
   "execution_count": 13,
   "id": "4a5564b2",
   "metadata": {},
   "outputs": [
    {
     "name": "stdout",
     "output_type": "stream",
     "text": [
      "Столбец __year_resale_value. Тип данных float64. Количество пустых значений 36, 22.93%.\n",
      "Столбец Price_in_thousands. Тип данных float64. Количество пустых значений 2, 1.27%.\n",
      "Столбец Engine_size. Тип данных float64. Количество пустых значений 1, 0.64%.\n",
      "Столбец Horsepower. Тип данных float64. Количество пустых значений 1, 0.64%.\n",
      "Столбец Wheelbase. Тип данных float64. Количество пустых значений 1, 0.64%.\n",
      "Столбец Width. Тип данных float64. Количество пустых значений 1, 0.64%.\n",
      "Столбец Length. Тип данных float64. Количество пустых значений 1, 0.64%.\n",
      "Столбец Curb_weight. Тип данных float64. Количество пустых значений 2, 1.27%.\n",
      "Столбец Fuel_capacity. Тип данных float64. Количество пустых значений 1, 0.64%.\n",
      "Столбец Fuel_efficiency. Тип данных float64. Количество пустых значений 3, 1.91%.\n",
      "Столбец Power_perf_factor. Тип данных float64. Количество пустых значений 2, 1.27%.\n"
     ]
    }
   ],
   "source": [
    "num_cols = []\n",
    "for col in data.columns:\n",
    "    temp_null_count = data[data[col].isnull()].shape[0]\n",
    "    dt = str(data[col].dtype)\n",
    "    if temp_null_count>0 and (dt=='float64' or dt=='int64'):\n",
    "        num_cols.append(col)\n",
    "        temp_perc = round((temp_null_count / data.shape[0]) * 100.0, 2)\n",
    "        print('Столбец {}. Тип данных {}. Количество пустых значений {}, {}%.'.format(col, dt, temp_null_count, temp_perc))"
   ]
  },
  {
   "cell_type": "markdown",
   "id": "1cb6163d",
   "metadata": {},
   "source": [
    "Отфильтруем по столбцам:"
   ]
  },
  {
   "cell_type": "code",
   "execution_count": 14,
   "id": "3ee90478",
   "metadata": {},
   "outputs": [
    {
     "data": {
      "text/html": [
       "<div>\n",
       "<style scoped>\n",
       "    .dataframe tbody tr th:only-of-type {\n",
       "        vertical-align: middle;\n",
       "    }\n",
       "\n",
       "    .dataframe tbody tr th {\n",
       "        vertical-align: top;\n",
       "    }\n",
       "\n",
       "    .dataframe thead th {\n",
       "        text-align: right;\n",
       "    }\n",
       "</style>\n",
       "<table border=\"1\" class=\"dataframe\">\n",
       "  <thead>\n",
       "    <tr style=\"text-align: right;\">\n",
       "      <th></th>\n",
       "      <th>__year_resale_value</th>\n",
       "      <th>Price_in_thousands</th>\n",
       "      <th>Engine_size</th>\n",
       "      <th>Horsepower</th>\n",
       "      <th>Wheelbase</th>\n",
       "      <th>Width</th>\n",
       "      <th>Length</th>\n",
       "      <th>Curb_weight</th>\n",
       "      <th>Fuel_capacity</th>\n",
       "      <th>Fuel_efficiency</th>\n",
       "      <th>Power_perf_factor</th>\n",
       "    </tr>\n",
       "  </thead>\n",
       "  <tbody>\n",
       "    <tr>\n",
       "      <th>0</th>\n",
       "      <td>16.360</td>\n",
       "      <td>21.50</td>\n",
       "      <td>1.8</td>\n",
       "      <td>140.0</td>\n",
       "      <td>101.2</td>\n",
       "      <td>67.3</td>\n",
       "      <td>172.4</td>\n",
       "      <td>2.639</td>\n",
       "      <td>13.2</td>\n",
       "      <td>28.0</td>\n",
       "      <td>58.280150</td>\n",
       "    </tr>\n",
       "    <tr>\n",
       "      <th>1</th>\n",
       "      <td>19.875</td>\n",
       "      <td>28.40</td>\n",
       "      <td>3.2</td>\n",
       "      <td>225.0</td>\n",
       "      <td>108.1</td>\n",
       "      <td>70.3</td>\n",
       "      <td>192.9</td>\n",
       "      <td>3.517</td>\n",
       "      <td>17.2</td>\n",
       "      <td>25.0</td>\n",
       "      <td>91.370778</td>\n",
       "    </tr>\n",
       "    <tr>\n",
       "      <th>2</th>\n",
       "      <td>18.225</td>\n",
       "      <td>NaN</td>\n",
       "      <td>3.2</td>\n",
       "      <td>225.0</td>\n",
       "      <td>106.9</td>\n",
       "      <td>70.6</td>\n",
       "      <td>192.0</td>\n",
       "      <td>3.470</td>\n",
       "      <td>17.2</td>\n",
       "      <td>26.0</td>\n",
       "      <td>NaN</td>\n",
       "    </tr>\n",
       "    <tr>\n",
       "      <th>3</th>\n",
       "      <td>29.725</td>\n",
       "      <td>42.00</td>\n",
       "      <td>3.5</td>\n",
       "      <td>210.0</td>\n",
       "      <td>114.6</td>\n",
       "      <td>71.4</td>\n",
       "      <td>196.6</td>\n",
       "      <td>3.850</td>\n",
       "      <td>18.0</td>\n",
       "      <td>22.0</td>\n",
       "      <td>91.389779</td>\n",
       "    </tr>\n",
       "    <tr>\n",
       "      <th>4</th>\n",
       "      <td>22.255</td>\n",
       "      <td>23.99</td>\n",
       "      <td>1.8</td>\n",
       "      <td>150.0</td>\n",
       "      <td>102.6</td>\n",
       "      <td>68.2</td>\n",
       "      <td>178.0</td>\n",
       "      <td>2.998</td>\n",
       "      <td>16.4</td>\n",
       "      <td>27.0</td>\n",
       "      <td>62.777639</td>\n",
       "    </tr>\n",
       "    <tr>\n",
       "      <th>...</th>\n",
       "      <td>...</td>\n",
       "      <td>...</td>\n",
       "      <td>...</td>\n",
       "      <td>...</td>\n",
       "      <td>...</td>\n",
       "      <td>...</td>\n",
       "      <td>...</td>\n",
       "      <td>...</td>\n",
       "      <td>...</td>\n",
       "      <td>...</td>\n",
       "      <td>...</td>\n",
       "    </tr>\n",
       "    <tr>\n",
       "      <th>152</th>\n",
       "      <td>NaN</td>\n",
       "      <td>24.40</td>\n",
       "      <td>1.9</td>\n",
       "      <td>160.0</td>\n",
       "      <td>100.5</td>\n",
       "      <td>67.6</td>\n",
       "      <td>176.6</td>\n",
       "      <td>3.042</td>\n",
       "      <td>15.8</td>\n",
       "      <td>25.0</td>\n",
       "      <td>66.498812</td>\n",
       "    </tr>\n",
       "    <tr>\n",
       "      <th>153</th>\n",
       "      <td>NaN</td>\n",
       "      <td>27.50</td>\n",
       "      <td>2.4</td>\n",
       "      <td>168.0</td>\n",
       "      <td>104.9</td>\n",
       "      <td>69.3</td>\n",
       "      <td>185.9</td>\n",
       "      <td>3.208</td>\n",
       "      <td>17.9</td>\n",
       "      <td>25.0</td>\n",
       "      <td>70.654495</td>\n",
       "    </tr>\n",
       "    <tr>\n",
       "      <th>154</th>\n",
       "      <td>NaN</td>\n",
       "      <td>28.80</td>\n",
       "      <td>2.4</td>\n",
       "      <td>168.0</td>\n",
       "      <td>104.9</td>\n",
       "      <td>69.3</td>\n",
       "      <td>186.2</td>\n",
       "      <td>3.259</td>\n",
       "      <td>17.9</td>\n",
       "      <td>25.0</td>\n",
       "      <td>71.155978</td>\n",
       "    </tr>\n",
       "    <tr>\n",
       "      <th>155</th>\n",
       "      <td>NaN</td>\n",
       "      <td>45.50</td>\n",
       "      <td>2.3</td>\n",
       "      <td>236.0</td>\n",
       "      <td>104.9</td>\n",
       "      <td>71.5</td>\n",
       "      <td>185.7</td>\n",
       "      <td>3.601</td>\n",
       "      <td>18.5</td>\n",
       "      <td>23.0</td>\n",
       "      <td>101.623357</td>\n",
       "    </tr>\n",
       "    <tr>\n",
       "      <th>156</th>\n",
       "      <td>NaN</td>\n",
       "      <td>36.00</td>\n",
       "      <td>2.9</td>\n",
       "      <td>201.0</td>\n",
       "      <td>109.9</td>\n",
       "      <td>72.1</td>\n",
       "      <td>189.8</td>\n",
       "      <td>3.600</td>\n",
       "      <td>21.1</td>\n",
       "      <td>24.0</td>\n",
       "      <td>85.735655</td>\n",
       "    </tr>\n",
       "  </tbody>\n",
       "</table>\n",
       "<p>157 rows × 11 columns</p>\n",
       "</div>"
      ],
      "text/plain": [
       "     __year_resale_value  Price_in_thousands  Engine_size  Horsepower  \\\n",
       "0                 16.360               21.50          1.8       140.0   \n",
       "1                 19.875               28.40          3.2       225.0   \n",
       "2                 18.225                 NaN          3.2       225.0   \n",
       "3                 29.725               42.00          3.5       210.0   \n",
       "4                 22.255               23.99          1.8       150.0   \n",
       "..                   ...                 ...          ...         ...   \n",
       "152                  NaN               24.40          1.9       160.0   \n",
       "153                  NaN               27.50          2.4       168.0   \n",
       "154                  NaN               28.80          2.4       168.0   \n",
       "155                  NaN               45.50          2.3       236.0   \n",
       "156                  NaN               36.00          2.9       201.0   \n",
       "\n",
       "     Wheelbase  Width  Length  Curb_weight  Fuel_capacity  Fuel_efficiency  \\\n",
       "0        101.2   67.3   172.4        2.639           13.2             28.0   \n",
       "1        108.1   70.3   192.9        3.517           17.2             25.0   \n",
       "2        106.9   70.6   192.0        3.470           17.2             26.0   \n",
       "3        114.6   71.4   196.6        3.850           18.0             22.0   \n",
       "4        102.6   68.2   178.0        2.998           16.4             27.0   \n",
       "..         ...    ...     ...          ...            ...              ...   \n",
       "152      100.5   67.6   176.6        3.042           15.8             25.0   \n",
       "153      104.9   69.3   185.9        3.208           17.9             25.0   \n",
       "154      104.9   69.3   186.2        3.259           17.9             25.0   \n",
       "155      104.9   71.5   185.7        3.601           18.5             23.0   \n",
       "156      109.9   72.1   189.8        3.600           21.1             24.0   \n",
       "\n",
       "     Power_perf_factor  \n",
       "0            58.280150  \n",
       "1            91.370778  \n",
       "2                  NaN  \n",
       "3            91.389779  \n",
       "4            62.777639  \n",
       "..                 ...  \n",
       "152          66.498812  \n",
       "153          70.654495  \n",
       "154          71.155978  \n",
       "155         101.623357  \n",
       "156          85.735655  \n",
       "\n",
       "[157 rows x 11 columns]"
      ]
     },
     "execution_count": 14,
     "metadata": {},
     "output_type": "execute_result"
    }
   ],
   "source": [
    "data_num = data[num_cols]\n",
    "data_num"
   ]
  },
  {
   "cell_type": "markdown",
   "id": "9cf3d79c",
   "metadata": {},
   "source": [
    "Гистограмма по признакам:"
   ]
  },
  {
   "cell_type": "code",
   "execution_count": 15,
   "id": "6dd0a0d5",
   "metadata": {},
   "outputs": [
    {
     "data": {
      "image/png": "[encoded data removed]",
      "text/plain": [
       "<Figure size 432x288 with 1 Axes>"
      ]
     },
     "metadata": {},
     "output_type": "display_data"
    },
    {
     "data": {
      "image/png": "[encoded data removed]",
      "text/plain": [
       "<Figure size 432x288 with 1 Axes>"
      ]
     },
     "metadata": {},
     "output_type": "display_data"
    },
    {
     "data": {
      "image/png": "[encoded data removed]",
      "text/plain": [
       "<Figure size 432x288 with 1 Axes>"
      ]
     },
     "metadata": {},
     "output_type": "display_data"
    },
    {
     "data": {
      "image/png": "[encoded data removed]",
      "text/plain": [
       "<Figure size 432x288 with 1 Axes>"
      ]
     },
     "metadata": {},
     "output_type": "display_data"
    },
    {
     "data": {
      "image/png": "[encoded data removed]",
      "text/plain": [
       "<Figure size 432x288 with 1 Axes>"
      ]
     },
     "metadata": {},
     "output_type": "display_data"
    },
    {
     "data": {
      "image/png": "[encoded data removed]",
      "text/plain": [
       "<Figure size 432x288 with 1 Axes>"
      ]
     },
     "metadata": {},
     "output_type": "display_data"
    },
    {
     "data": {
      "image/png": "[encoded data removed]",
      "text/plain": [
       "<Figure size 432x288 with 1 Axes>"
      ]
     },
     "metadata": {},
     "output_type": "display_data"
    },
    {
     "data": {
      "image/png": "[encoded data removed]",
      "text/plain": [
       "<Figure size 432x288 with 1 Axes>"
      ]
     },
     "metadata": {},
     "output_type": "display_data"
    },
    {
     "data": {
      "image/png": "[encoded data removed]",
      "text/plain": [
       "<Figure size 432x288 with 1 Axes>"
      ]
     },
     "metadata": {},
     "output_type": "display_data"
    },
    {
     "data": {
      "image/png": "[encoded data removed]",
      "text/plain": [
       "<Figure size 432x288 with 1 Axes>"
      ]
     },
     "metadata": {},
     "output_type": "display_data"
    },
    {
     "data": {
      "image/png": "[encoded data removed]",
      "text/plain": [
       "<Figure size 432x288 with 1 Axes>"
      ]
     },
     "metadata": {},
     "output_type": "display_data"
    }
   ],
   "source": [
    "for col in data_num:\n",
    "    plt.hist(data[col], 50)\n",
    "    plt.xlabel(col)\n",
    "    plt.show()"
   ]
  },
  {
   "cell_type": "markdown",
   "id": "bdb7f563",
   "metadata": {},
   "source": [
    "Будем использовать встроенные средства импьютации библиотеки scikit-learn, доступные по адресу: https://scikit-learn.org/stable/modules/impute.html"
   ]
  },
  {
   "cell_type": "code",
   "execution_count": 16,
   "id": "b55d1350",
   "metadata": {},
   "outputs": [],
   "source": [
    "data_num_pit = data_num[['Price_in_thousands']]"
   ]
  },
  {
   "cell_type": "code",
   "execution_count": 17,
   "id": "470af76c",
   "metadata": {},
   "outputs": [],
   "source": [
    "from sklearn.impute import SimpleImputer\n",
    "from sklearn.impute import MissingIndicator"
   ]
  },
  {
   "cell_type": "markdown",
   "id": "dd685f35",
   "metadata": {},
   "source": [
    "Фильтр для проверки заполнения пустых значений:"
   ]
  },
  {
   "cell_type": "code",
   "execution_count": 18,
   "id": "ec0292f5",
   "metadata": {},
   "outputs": [
    {
     "data": {
      "text/plain": [
       "array([[False],\n",
       "       [False],\n",
       "       [ True],\n",
       "       [False],\n",
       "       [False],\n",
       "       [False],\n",
       "       [False],\n",
       "       [False],\n",
       "       [False],\n",
       "       [False],\n",
       "       [False],\n",
       "       [False],\n",
       "       [False],\n",
       "       [False],\n",
       "       [False],\n",
       "       [False],\n",
       "       [False],\n",
       "       [False],\n",
       "       [False],\n",
       "       [False],\n",
       "       [False],\n",
       "       [False],\n",
       "       [False],\n",
       "       [False],\n",
       "       [False],\n",
       "       [False],\n",
       "       [False],\n",
       "       [False],\n",
       "       [False],\n",
       "       [False],\n",
       "       [False],\n",
       "       [False],\n",
       "       [False],\n",
       "       [ True],\n",
       "       [False],\n",
       "       [False],\n",
       "       [False],\n",
       "       [False],\n",
       "       [False],\n",
       "       [False],\n",
       "       [False],\n",
       "       [False],\n",
       "       [False],\n",
       "       [False],\n",
       "       [False],\n",
       "       [False],\n",
       "       [False],\n",
       "       [False],\n",
       "       [False],\n",
       "       [False],\n",
       "       [False],\n",
       "       [False],\n",
       "       [False],\n",
       "       [False],\n",
       "       [False],\n",
       "       [False],\n",
       "       [False],\n",
       "       [False],\n",
       "       [False],\n",
       "       [False],\n",
       "       [False],\n",
       "       [False],\n",
       "       [False],\n",
       "       [False],\n",
       "       [False],\n",
       "       [False],\n",
       "       [False],\n",
       "       [False],\n",
       "       [False],\n",
       "       [False],\n",
       "       [False],\n",
       "       [False],\n",
       "       [False],\n",
       "       [False],\n",
       "       [False],\n",
       "       [False],\n",
       "       [False],\n",
       "       [False],\n",
       "       [False],\n",
       "       [False],\n",
       "       [False],\n",
       "       [False],\n",
       "       [False],\n",
       "       [False],\n",
       "       [False],\n",
       "       [False],\n",
       "       [False],\n",
       "       [False],\n",
       "       [False],\n",
       "       [False],\n",
       "       [False],\n",
       "       [False],\n",
       "       [False],\n",
       "       [False],\n",
       "       [False],\n",
       "       [False],\n",
       "       [False],\n",
       "       [False],\n",
       "       [False],\n",
       "       [False],\n",
       "       [False],\n",
       "       [False],\n",
       "       [False],\n",
       "       [False],\n",
       "       [False],\n",
       "       [False],\n",
       "       [False],\n",
       "       [False],\n",
       "       [False],\n",
       "       [False],\n",
       "       [False],\n",
       "       [False],\n",
       "       [False],\n",
       "       [False],\n",
       "       [False],\n",
       "       [False],\n",
       "       [False],\n",
       "       [False],\n",
       "       [False],\n",
       "       [False],\n",
       "       [False],\n",
       "       [False],\n",
       "       [False],\n",
       "       [False],\n",
       "       [False],\n",
       "       [False],\n",
       "       [False],\n",
       "       [False],\n",
       "       [False],\n",
       "       [False],\n",
       "       [False],\n",
       "       [False],\n",
       "       [False],\n",
       "       [False],\n",
       "       [False],\n",
       "       [False],\n",
       "       [False],\n",
       "       [False],\n",
       "       [False],\n",
       "       [False],\n",
       "       [False],\n",
       "       [False],\n",
       "       [False],\n",
       "       [False],\n",
       "       [False],\n",
       "       [False],\n",
       "       [False],\n",
       "       [False],\n",
       "       [False],\n",
       "       [False],\n",
       "       [False],\n",
       "       [False],\n",
       "       [False],\n",
       "       [False],\n",
       "       [False],\n",
       "       [False],\n",
       "       [False]])"
      ]
     },
     "execution_count": 18,
     "metadata": {},
     "output_type": "execute_result"
    }
   ],
   "source": [
    "indicator = MissingIndicator()\n",
    "mask_missing_values_only = indicator.fit_transform(data_num_pit)\n",
    "mask_missing_values_only"
   ]
  },
  {
   "cell_type": "markdown",
   "id": "124d3109",
   "metadata": {},
   "source": [
    "Проведем импьютацию различными показателями центра распределения:"
   ]
  },
  {
   "cell_type": "code",
   "execution_count": 19,
   "id": "35a932b7",
   "metadata": {},
   "outputs": [],
   "source": [
    "strategies=['mean', 'median', 'most_frequent']"
   ]
  },
  {
   "cell_type": "code",
   "execution_count": 20,
   "id": "c7024be1",
   "metadata": {},
   "outputs": [],
   "source": [
    "def test_num_impute(strategy_param):\n",
    "    imp_num = SimpleImputer(strategy=strategy_param)\n",
    "    data_num_imp = imp_num.fit_transform(data_num_pit)\n",
    "    return data_num_imp[mask_missing_values_only]"
   ]
  },
  {
   "cell_type": "code",
   "execution_count": 21,
   "id": "70584650",
   "metadata": {},
   "outputs": [
    {
     "data": {
      "text/plain": [
       "('mean', array([27.39075484, 27.39075484]))"
      ]
     },
     "execution_count": 21,
     "metadata": {},
     "output_type": "execute_result"
    }
   ],
   "source": [
    "strategies[0], test_num_impute(strategies[0])"
   ]
  },
  {
   "cell_type": "code",
   "execution_count": 22,
   "id": "e9b3e2c9",
   "metadata": {},
   "outputs": [
    {
     "data": {
      "text/plain": [
       "('median', array([22.799, 22.799]))"
      ]
     },
     "execution_count": 22,
     "metadata": {},
     "output_type": "execute_result"
    }
   ],
   "source": [
    "strategies[1], test_num_impute(strategies[1])"
   ]
  },
  {
   "cell_type": "code",
   "execution_count": 23,
   "id": "efd5498c",
   "metadata": {},
   "outputs": [
    {
     "data": {
      "text/plain": [
       "('most_frequent', array([12.64, 12.64]))"
      ]
     },
     "execution_count": 23,
     "metadata": {},
     "output_type": "execute_result"
    }
   ],
   "source": [
    "strategies[2], test_num_impute(strategies[2])"
   ]
  },
  {
   "cell_type": "markdown",
   "id": "76f35cc0",
   "metadata": {},
   "source": [
    "Создадим функцию, позволяющую задавать столбец и вид импьютации:"
   ]
  },
  {
   "cell_type": "code",
   "execution_count": 24,
   "id": "010abe35",
   "metadata": {},
   "outputs": [],
   "source": [
    "def test_num_impute_col(dataset, column, strategy_param):\n",
    "    temp_data = dataset[[column]]\n",
    "    \n",
    "    indicator = MissingIndicator()\n",
    "    mask_missing_values_only = indicator.fit_transform(temp_data)\n",
    "    \n",
    "    imp_num = SimpleImputer(strategy=strategy_param)\n",
    "    data_num_imp = imp_num.fit_transform(temp_data)\n",
    "    \n",
    "    filled_data = data_num_imp[mask_missing_values_only]\n",
    "    \n",
    "    return column, strategy_param, filled_data.size, filled_data[0], filled_data[filled_data.size-1]"
   ]
  },
  {
   "cell_type": "markdown",
   "id": "1f83b5b1",
   "metadata": {},
   "source": [
    "Проверим работу функции по продажам автомобилей:"
   ]
  },
  {
   "cell_type": "code",
   "execution_count": 25,
   "id": "3aeed0a4",
   "metadata": {},
   "outputs": [
    {
     "data": {
      "text/html": [
       "<div>\n",
       "<style scoped>\n",
       "    .dataframe tbody tr th:only-of-type {\n",
       "        vertical-align: middle;\n",
       "    }\n",
       "\n",
       "    .dataframe tbody tr th {\n",
       "        vertical-align: top;\n",
       "    }\n",
       "\n",
       "    .dataframe thead th {\n",
       "        text-align: right;\n",
       "    }\n",
       "</style>\n",
       "<table border=\"1\" class=\"dataframe\">\n",
       "  <thead>\n",
       "    <tr style=\"text-align: right;\">\n",
       "      <th></th>\n",
       "      <th>__year_resale_value</th>\n",
       "    </tr>\n",
       "  </thead>\n",
       "  <tbody>\n",
       "    <tr>\n",
       "      <th>count</th>\n",
       "      <td>121.000000</td>\n",
       "    </tr>\n",
       "    <tr>\n",
       "      <th>mean</th>\n",
       "      <td>18.072975</td>\n",
       "    </tr>\n",
       "    <tr>\n",
       "      <th>std</th>\n",
       "      <td>11.453384</td>\n",
       "    </tr>\n",
       "    <tr>\n",
       "      <th>min</th>\n",
       "      <td>5.160000</td>\n",
       "    </tr>\n",
       "    <tr>\n",
       "      <th>25%</th>\n",
       "      <td>11.260000</td>\n",
       "    </tr>\n",
       "    <tr>\n",
       "      <th>50%</th>\n",
       "      <td>14.180000</td>\n",
       "    </tr>\n",
       "    <tr>\n",
       "      <th>75%</th>\n",
       "      <td>19.875000</td>\n",
       "    </tr>\n",
       "    <tr>\n",
       "      <th>max</th>\n",
       "      <td>67.550000</td>\n",
       "    </tr>\n",
       "  </tbody>\n",
       "</table>\n",
       "</div>"
      ],
      "text/plain": [
       "       __year_resale_value\n",
       "count           121.000000\n",
       "mean             18.072975\n",
       "std              11.453384\n",
       "min               5.160000\n",
       "25%              11.260000\n",
       "50%              14.180000\n",
       "75%              19.875000\n",
       "max              67.550000"
      ]
     },
     "execution_count": 25,
     "metadata": {},
     "output_type": "execute_result"
    }
   ],
   "source": [
    "data[['__year_resale_value']].describe()"
   ]
  },
  {
   "cell_type": "code",
   "execution_count": 26,
   "id": "4f8afb91",
   "metadata": {},
   "outputs": [
    {
     "data": {
      "text/plain": [
       "('__year_resale_value', 'mean', 36, 18.07297520661157, 18.07297520661157)"
      ]
     },
     "execution_count": 26,
     "metadata": {},
     "output_type": "execute_result"
    }
   ],
   "source": [
    "test_num_impute_col(data, '__year_resale_value', strategies[0])"
   ]
  },
  {
   "cell_type": "code",
   "execution_count": 27,
   "id": "c8d7bfda",
   "metadata": {},
   "outputs": [
    {
     "data": {
      "text/plain": [
       "('__year_resale_value', 'median', 36, 14.18, 14.18)"
      ]
     },
     "execution_count": 27,
     "metadata": {},
     "output_type": "execute_result"
    }
   ],
   "source": [
    "test_num_impute_col(data, '__year_resale_value', strategies[1])"
   ]
  },
  {
   "cell_type": "code",
   "execution_count": 28,
   "id": "98a57f14",
   "metadata": {},
   "outputs": [
    {
     "data": {
      "text/plain": [
       "('__year_resale_value', 'most_frequent', 36, 7.75, 7.75)"
      ]
     },
     "execution_count": 28,
     "metadata": {},
     "output_type": "execute_result"
    }
   ],
   "source": [
    "test_num_impute_col(data, '__year_resale_value', strategies[2])"
   ]
  },
  {
   "cell_type": "markdown",
   "id": "f3fa7bac",
   "metadata": {},
   "source": [
    "### Обработка пропусков в категориальных данных"
   ]
  },
  {
   "cell_type": "markdown",
   "id": "54570fa2",
   "metadata": {},
   "source": [
    "Так как в датасете нет пропусков среди столбца \"Производитель\", то искуственно подправим датасет и загрузим его:"
   ]
  },
  {
   "cell_type": "code",
   "execution_count": 29,
   "id": "d888c08b",
   "metadata": {},
   "outputs": [],
   "source": [
    "data_mod = pd.read_csv('Car_sales_mod.csv')"
   ]
  },
  {
   "cell_type": "markdown",
   "id": "01cd5748",
   "metadata": {},
   "source": [
    "Проверим категориальный признак:"
   ]
  },
  {
   "cell_type": "code",
   "execution_count": 30,
   "id": "fb2a871b",
   "metadata": {},
   "outputs": [
    {
     "name": "stdout",
     "output_type": "stream",
     "text": [
      "Столбец Manufacturer. Тип данных object. Количество пустых значений 15, 9.55%.\n"
     ]
    }
   ],
   "source": [
    "cat_cols = []\n",
    "for col in data.columns:\n",
    "    temp_null_count = data_mod[data_mod[col].isnull()].shape[0]\n",
    "    dt = str(data_mod[col].dtype)\n",
    "    if temp_null_count>0 and (dt=='object'):\n",
    "        cat_cols.append(col)\n",
    "        temp_perc = round((temp_null_count / data.shape[0]) * 100.0, 2)\n",
    "        print('Столбец {}. Тип данных {}. Количество пустых значений {}, {}%.'.format(col, dt, temp_null_count, temp_perc))"
   ]
  },
  {
   "cell_type": "markdown",
   "id": "7fe8f0be",
   "metadata": {},
   "source": [
    "Его и будем использовать:"
   ]
  },
  {
   "cell_type": "code",
   "execution_count": 31,
   "id": "1f747180",
   "metadata": {},
   "outputs": [
    {
     "data": {
      "text/html": [
       "<div>\n",
       "<style scoped>\n",
       "    .dataframe tbody tr th:only-of-type {\n",
       "        vertical-align: middle;\n",
       "    }\n",
       "\n",
       "    .dataframe tbody tr th {\n",
       "        vertical-align: top;\n",
       "    }\n",
       "\n",
       "    .dataframe thead th {\n",
       "        text-align: right;\n",
       "    }\n",
       "</style>\n",
       "<table border=\"1\" class=\"dataframe\">\n",
       "  <thead>\n",
       "    <tr style=\"text-align: right;\">\n",
       "      <th></th>\n",
       "      <th>Manufacturer</th>\n",
       "    </tr>\n",
       "  </thead>\n",
       "  <tbody>\n",
       "    <tr>\n",
       "      <th>0</th>\n",
       "      <td>Acura</td>\n",
       "    </tr>\n",
       "    <tr>\n",
       "      <th>1</th>\n",
       "      <td>Acura</td>\n",
       "    </tr>\n",
       "    <tr>\n",
       "      <th>2</th>\n",
       "      <td>Acura</td>\n",
       "    </tr>\n",
       "    <tr>\n",
       "      <th>3</th>\n",
       "      <td>Acura</td>\n",
       "    </tr>\n",
       "    <tr>\n",
       "      <th>4</th>\n",
       "      <td>Audi</td>\n",
       "    </tr>\n",
       "  </tbody>\n",
       "</table>\n",
       "</div>"
      ],
      "text/plain": [
       "  Manufacturer\n",
       "0        Acura\n",
       "1        Acura\n",
       "2        Acura\n",
       "3        Acura\n",
       "4         Audi"
      ]
     },
     "execution_count": 31,
     "metadata": {},
     "output_type": "execute_result"
    }
   ],
   "source": [
    "cat_temp_data = data_mod[['Manufacturer']]\n",
    "cat_temp_data.head()"
   ]
  },
  {
   "cell_type": "code",
   "execution_count": 32,
   "id": "6ab507ab",
   "metadata": {},
   "outputs": [
    {
     "data": {
      "text/plain": [
       "array(['Acura', 'Audi', 'BMW', 'Buick', 'Cadillac', 'Chevrolet', nan,\n",
       "       'Dodge', 'Ford', 'Honda', 'Hyundai', 'Infiniti', 'Jaguar', 'Jeep',\n",
       "       'Lexus', 'Mitsubishi', 'Mercury', 'Mercedes-B', 'Nissan',\n",
       "       'Oldsmobile', 'Plymouth', 'Pontiac', 'Porsche', 'Saab', 'Subaru',\n",
       "       'Toyota', 'Volkswagen', 'Volvo'], dtype=object)"
      ]
     },
     "execution_count": 32,
     "metadata": {},
     "output_type": "execute_result"
    }
   ],
   "source": [
    "cat_temp_data['Manufacturer'].unique()"
   ]
  },
  {
   "cell_type": "code",
   "execution_count": 33,
   "id": "a98504a9",
   "metadata": {},
   "outputs": [
    {
     "data": {
      "text/plain": [
       "(15, 1)"
      ]
     },
     "execution_count": 33,
     "metadata": {},
     "output_type": "execute_result"
    }
   ],
   "source": [
    "cat_temp_data[cat_temp_data['Manufacturer'].isnull()].shape"
   ]
  },
  {
   "cell_type": "markdown",
   "id": "ede3f6be",
   "metadata": {},
   "source": [
    "Импьютация наиболее частыми значениями:"
   ]
  },
  {
   "cell_type": "code",
   "execution_count": 34,
   "id": "3f90e270",
   "metadata": {},
   "outputs": [
    {
     "data": {
      "text/plain": [
       "array([['Acura'],\n",
       "       ['Acura'],\n",
       "       ['Acura'],\n",
       "       ['Acura'],\n",
       "       ['Audi'],\n",
       "       ['Audi'],\n",
       "       ['Audi'],\n",
       "       ['BMW'],\n",
       "       ['BMW'],\n",
       "       ['BMW'],\n",
       "       ['Buick'],\n",
       "       ['Buick'],\n",
       "       ['Buick'],\n",
       "       ['Buick'],\n",
       "       ['Cadillac'],\n",
       "       ['Cadillac'],\n",
       "       ['Cadillac'],\n",
       "       ['Cadillac'],\n",
       "       ['Cadillac'],\n",
       "       ['Chevrolet'],\n",
       "       ['Chevrolet'],\n",
       "       ['Chevrolet'],\n",
       "       ['Chevrolet'],\n",
       "       ['Chevrolet'],\n",
       "       ['Chevrolet'],\n",
       "       ['Chevrolet'],\n",
       "       ['Chevrolet'],\n",
       "       ['Chevrolet'],\n",
       "       ['Dodge'],\n",
       "       ['Dodge'],\n",
       "       ['Dodge'],\n",
       "       ['Dodge'],\n",
       "       ['Dodge'],\n",
       "       ['Dodge'],\n",
       "       ['Dodge'],\n",
       "       ['Dodge'],\n",
       "       ['Dodge'],\n",
       "       ['Dodge'],\n",
       "       ['Dodge'],\n",
       "       ['Dodge'],\n",
       "       ['Dodge'],\n",
       "       ['Dodge'],\n",
       "       ['Dodge'],\n",
       "       ['Dodge'],\n",
       "       ['Dodge'],\n",
       "       ['Dodge'],\n",
       "       ['Ford'],\n",
       "       ['Ford'],\n",
       "       ['Ford'],\n",
       "       ['Ford'],\n",
       "       ['Ford'],\n",
       "       ['Ford'],\n",
       "       ['Ford'],\n",
       "       ['Ford'],\n",
       "       ['Ford'],\n",
       "       ['Ford'],\n",
       "       ['Ford'],\n",
       "       ['Honda'],\n",
       "       ['Honda'],\n",
       "       ['Honda'],\n",
       "       ['Honda'],\n",
       "       ['Honda'],\n",
       "       ['Hyundai'],\n",
       "       ['Hyundai'],\n",
       "       ['Hyundai'],\n",
       "       ['Infiniti'],\n",
       "       ['Jaguar'],\n",
       "       ['Jeep'],\n",
       "       ['Jeep'],\n",
       "       ['Jeep'],\n",
       "       ['Lexus'],\n",
       "       ['Lexus'],\n",
       "       ['Lexus'],\n",
       "       ['Lexus'],\n",
       "       ['Lexus'],\n",
       "       ['Lexus'],\n",
       "       ['Dodge'],\n",
       "       ['Dodge'],\n",
       "       ['Dodge'],\n",
       "       ['Mitsubishi'],\n",
       "       ['Mitsubishi'],\n",
       "       ['Mitsubishi'],\n",
       "       ['Mitsubishi'],\n",
       "       ['Mitsubishi'],\n",
       "       ['Mitsubishi'],\n",
       "       ['Mitsubishi'],\n",
       "       ['Mercury'],\n",
       "       ['Mercury'],\n",
       "       ['Mercury'],\n",
       "       ['Mercury'],\n",
       "       ['Mercury'],\n",
       "       ['Mercury'],\n",
       "       ['Mercedes-B'],\n",
       "       ['Mercedes-B'],\n",
       "       ['Mercedes-B'],\n",
       "       ['Mercedes-B'],\n",
       "       ['Mercedes-B'],\n",
       "       ['Mercedes-B'],\n",
       "       ['Mercedes-B'],\n",
       "       ['Mercedes-B'],\n",
       "       ['Mercedes-B'],\n",
       "       ['Nissan'],\n",
       "       ['Nissan'],\n",
       "       ['Nissan'],\n",
       "       ['Nissan'],\n",
       "       ['Nissan'],\n",
       "       ['Nissan'],\n",
       "       ['Nissan'],\n",
       "       ['Oldsmobile'],\n",
       "       ['Oldsmobile'],\n",
       "       ['Oldsmobile'],\n",
       "       ['Oldsmobile'],\n",
       "       ['Oldsmobile'],\n",
       "       ['Oldsmobile'],\n",
       "       ['Plymouth'],\n",
       "       ['Plymouth'],\n",
       "       ['Plymouth'],\n",
       "       ['Plymouth'],\n",
       "       ['Pontiac'],\n",
       "       ['Pontiac'],\n",
       "       ['Pontiac'],\n",
       "       ['Pontiac'],\n",
       "       ['Pontiac'],\n",
       "       ['Pontiac'],\n",
       "       ['Porsche'],\n",
       "       ['Porsche'],\n",
       "       ['Porsche'],\n",
       "       ['Saab'],\n",
       "       ['Saab'],\n",
       "       ['Dodge'],\n",
       "       ['Dodge'],\n",
       "       ['Dodge'],\n",
       "       ['Dodge'],\n",
       "       ['Dodge'],\n",
       "       ['Subaru'],\n",
       "       ['Subaru'],\n",
       "       ['Toyota'],\n",
       "       ['Toyota'],\n",
       "       ['Toyota'],\n",
       "       ['Toyota'],\n",
       "       ['Toyota'],\n",
       "       ['Toyota'],\n",
       "       ['Toyota'],\n",
       "       ['Toyota'],\n",
       "       ['Toyota'],\n",
       "       ['Volkswagen'],\n",
       "       ['Volkswagen'],\n",
       "       ['Volkswagen'],\n",
       "       ['Volkswagen'],\n",
       "       ['Volkswagen'],\n",
       "       ['Volkswagen'],\n",
       "       ['Volvo'],\n",
       "       ['Volvo'],\n",
       "       ['Volvo'],\n",
       "       ['Volvo'],\n",
       "       ['Volvo'],\n",
       "       ['Volvo']], dtype=object)"
      ]
     },
     "execution_count": 34,
     "metadata": {},
     "output_type": "execute_result"
    }
   ],
   "source": [
    "imp2 = SimpleImputer(missing_values=np.nan, strategy='most_frequent')\n",
    "data_imp2 = imp2.fit_transform(cat_temp_data)\n",
    "data_imp2"
   ]
  },
  {
   "cell_type": "code",
   "execution_count": 35,
   "id": "a0128797",
   "metadata": {},
   "outputs": [
    {
     "data": {
      "text/plain": [
       "array(['Acura', 'Audi', 'BMW', 'Buick', 'Cadillac', 'Chevrolet', 'Dodge',\n",
       "       'Ford', 'Honda', 'Hyundai', 'Infiniti', 'Jaguar', 'Jeep', 'Lexus',\n",
       "       'Mercedes-B', 'Mercury', 'Mitsubishi', 'Nissan', 'Oldsmobile',\n",
       "       'Plymouth', 'Pontiac', 'Porsche', 'Saab', 'Subaru', 'Toyota',\n",
       "       'Volkswagen', 'Volvo'], dtype=object)"
      ]
     },
     "execution_count": 35,
     "metadata": {},
     "output_type": "execute_result"
    }
   ],
   "source": [
    "np.unique(data_imp2)"
   ]
  },
  {
   "cell_type": "markdown",
   "id": "8cf29423",
   "metadata": {},
   "source": [
    "Наблюдаем отсутствие пустых значений."
   ]
  },
  {
   "cell_type": "markdown",
   "id": "72f7f71a",
   "metadata": {},
   "source": [
    "Импьютация константой:"
   ]
  },
  {
   "cell_type": "code",
   "execution_count": 36,
   "id": "f22fd6a9",
   "metadata": {},
   "outputs": [
    {
     "data": {
      "text/plain": [
       "array([['Acura'],\n",
       "       ['Acura'],\n",
       "       ['Acura'],\n",
       "       ['Acura'],\n",
       "       ['Audi'],\n",
       "       ['Audi'],\n",
       "       ['Audi'],\n",
       "       ['BMW'],\n",
       "       ['BMW'],\n",
       "       ['BMW'],\n",
       "       ['Buick'],\n",
       "       ['Buick'],\n",
       "       ['Buick'],\n",
       "       ['Buick'],\n",
       "       ['Cadillac'],\n",
       "       ['Cadillac'],\n",
       "       ['Cadillac'],\n",
       "       ['Cadillac'],\n",
       "       ['Cadillac'],\n",
       "       ['Chevrolet'],\n",
       "       ['Chevrolet'],\n",
       "       ['Chevrolet'],\n",
       "       ['Chevrolet'],\n",
       "       ['Chevrolet'],\n",
       "       ['Chevrolet'],\n",
       "       ['Chevrolet'],\n",
       "       ['Chevrolet'],\n",
       "       ['Chevrolet'],\n",
       "       ['???'],\n",
       "       ['???'],\n",
       "       ['???'],\n",
       "       ['???'],\n",
       "       ['???'],\n",
       "       ['???'],\n",
       "       ['???'],\n",
       "       ['Dodge'],\n",
       "       ['Dodge'],\n",
       "       ['Dodge'],\n",
       "       ['Dodge'],\n",
       "       ['Dodge'],\n",
       "       ['Dodge'],\n",
       "       ['Dodge'],\n",
       "       ['Dodge'],\n",
       "       ['Dodge'],\n",
       "       ['Dodge'],\n",
       "       ['Dodge'],\n",
       "       ['Ford'],\n",
       "       ['Ford'],\n",
       "       ['Ford'],\n",
       "       ['Ford'],\n",
       "       ['Ford'],\n",
       "       ['Ford'],\n",
       "       ['Ford'],\n",
       "       ['Ford'],\n",
       "       ['Ford'],\n",
       "       ['Ford'],\n",
       "       ['Ford'],\n",
       "       ['Honda'],\n",
       "       ['Honda'],\n",
       "       ['Honda'],\n",
       "       ['Honda'],\n",
       "       ['Honda'],\n",
       "       ['Hyundai'],\n",
       "       ['Hyundai'],\n",
       "       ['Hyundai'],\n",
       "       ['Infiniti'],\n",
       "       ['Jaguar'],\n",
       "       ['Jeep'],\n",
       "       ['Jeep'],\n",
       "       ['Jeep'],\n",
       "       ['Lexus'],\n",
       "       ['Lexus'],\n",
       "       ['Lexus'],\n",
       "       ['Lexus'],\n",
       "       ['Lexus'],\n",
       "       ['Lexus'],\n",
       "       ['???'],\n",
       "       ['???'],\n",
       "       ['???'],\n",
       "       ['Mitsubishi'],\n",
       "       ['Mitsubishi'],\n",
       "       ['Mitsubishi'],\n",
       "       ['Mitsubishi'],\n",
       "       ['Mitsubishi'],\n",
       "       ['Mitsubishi'],\n",
       "       ['Mitsubishi'],\n",
       "       ['Mercury'],\n",
       "       ['Mercury'],\n",
       "       ['Mercury'],\n",
       "       ['Mercury'],\n",
       "       ['Mercury'],\n",
       "       ['Mercury'],\n",
       "       ['Mercedes-B'],\n",
       "       ['Mercedes-B'],\n",
       "       ['Mercedes-B'],\n",
       "       ['Mercedes-B'],\n",
       "       ['Mercedes-B'],\n",
       "       ['Mercedes-B'],\n",
       "       ['Mercedes-B'],\n",
       "       ['Mercedes-B'],\n",
       "       ['Mercedes-B'],\n",
       "       ['Nissan'],\n",
       "       ['Nissan'],\n",
       "       ['Nissan'],\n",
       "       ['Nissan'],\n",
       "       ['Nissan'],\n",
       "       ['Nissan'],\n",
       "       ['Nissan'],\n",
       "       ['Oldsmobile'],\n",
       "       ['Oldsmobile'],\n",
       "       ['Oldsmobile'],\n",
       "       ['Oldsmobile'],\n",
       "       ['Oldsmobile'],\n",
       "       ['Oldsmobile'],\n",
       "       ['Plymouth'],\n",
       "       ['Plymouth'],\n",
       "       ['Plymouth'],\n",
       "       ['Plymouth'],\n",
       "       ['Pontiac'],\n",
       "       ['Pontiac'],\n",
       "       ['Pontiac'],\n",
       "       ['Pontiac'],\n",
       "       ['Pontiac'],\n",
       "       ['Pontiac'],\n",
       "       ['Porsche'],\n",
       "       ['Porsche'],\n",
       "       ['Porsche'],\n",
       "       ['Saab'],\n",
       "       ['Saab'],\n",
       "       ['???'],\n",
       "       ['???'],\n",
       "       ['???'],\n",
       "       ['???'],\n",
       "       ['???'],\n",
       "       ['Subaru'],\n",
       "       ['Subaru'],\n",
       "       ['Toyota'],\n",
       "       ['Toyota'],\n",
       "       ['Toyota'],\n",
       "       ['Toyota'],\n",
       "       ['Toyota'],\n",
       "       ['Toyota'],\n",
       "       ['Toyota'],\n",
       "       ['Toyota'],\n",
       "       ['Toyota'],\n",
       "       ['Volkswagen'],\n",
       "       ['Volkswagen'],\n",
       "       ['Volkswagen'],\n",
       "       ['Volkswagen'],\n",
       "       ['Volkswagen'],\n",
       "       ['Volkswagen'],\n",
       "       ['Volvo'],\n",
       "       ['Volvo'],\n",
       "       ['Volvo'],\n",
       "       ['Volvo'],\n",
       "       ['Volvo'],\n",
       "       ['Volvo']], dtype=object)"
      ]
     },
     "execution_count": 36,
     "metadata": {},
     "output_type": "execute_result"
    }
   ],
   "source": [
    "imp3 = SimpleImputer(missing_values=np.nan, strategy='constant', fill_value='???')\n",
    "data_imp3 = imp3.fit_transform(cat_temp_data)\n",
    "data_imp3"
   ]
  },
  {
   "cell_type": "code",
   "execution_count": 37,
   "id": "d3c15053",
   "metadata": {},
   "outputs": [
    {
     "data": {
      "text/plain": [
       "array(['???', 'Acura', 'Audi', 'BMW', 'Buick', 'Cadillac', 'Chevrolet',\n",
       "       'Dodge', 'Ford', 'Honda', 'Hyundai', 'Infiniti', 'Jaguar', 'Jeep',\n",
       "       'Lexus', 'Mercedes-B', 'Mercury', 'Mitsubishi', 'Nissan',\n",
       "       'Oldsmobile', 'Plymouth', 'Pontiac', 'Porsche', 'Saab', 'Subaru',\n",
       "       'Toyota', 'Volkswagen', 'Volvo'], dtype=object)"
      ]
     },
     "execution_count": 37,
     "metadata": {},
     "output_type": "execute_result"
    }
   ],
   "source": [
    "np.unique(data_imp3)"
   ]
  },
  {
   "cell_type": "code",
   "execution_count": 38,
   "id": "a53e22d2",
   "metadata": {},
   "outputs": [
    {
     "data": {
      "text/plain": [
       "0"
      ]
     },
     "execution_count": 38,
     "metadata": {},
     "output_type": "execute_result"
    }
   ],
   "source": [
    "data_imp3[data_imp3==0].size"
   ]
  },
  {
   "cell_type": "markdown",
   "id": "ac83e554",
   "metadata": {},
   "source": [
    "Значения были заменены на \"???\"."
   ]
  },
  {
   "cell_type": "markdown",
   "id": "aca96a9f",
   "metadata": {},
   "source": [
    "### Преобразование категориальных признаков в числовые"
   ]
  },
  {
   "cell_type": "code",
   "execution_count": 39,
   "id": "38db3214",
   "metadata": {},
   "outputs": [
    {
     "data": {
      "text/html": [
       "<div>\n",
       "<style scoped>\n",
       "    .dataframe tbody tr th:only-of-type {\n",
       "        vertical-align: middle;\n",
       "    }\n",
       "\n",
       "    .dataframe tbody tr th {\n",
       "        vertical-align: top;\n",
       "    }\n",
       "\n",
       "    .dataframe thead th {\n",
       "        text-align: right;\n",
       "    }\n",
       "</style>\n",
       "<table border=\"1\" class=\"dataframe\">\n",
       "  <thead>\n",
       "    <tr style=\"text-align: right;\">\n",
       "      <th></th>\n",
       "      <th>c1</th>\n",
       "    </tr>\n",
       "  </thead>\n",
       "  <tbody>\n",
       "    <tr>\n",
       "      <th>0</th>\n",
       "      <td>Acura</td>\n",
       "    </tr>\n",
       "    <tr>\n",
       "      <th>1</th>\n",
       "      <td>Acura</td>\n",
       "    </tr>\n",
       "    <tr>\n",
       "      <th>2</th>\n",
       "      <td>Acura</td>\n",
       "    </tr>\n",
       "    <tr>\n",
       "      <th>3</th>\n",
       "      <td>Acura</td>\n",
       "    </tr>\n",
       "    <tr>\n",
       "      <th>4</th>\n",
       "      <td>Audi</td>\n",
       "    </tr>\n",
       "    <tr>\n",
       "      <th>...</th>\n",
       "      <td>...</td>\n",
       "    </tr>\n",
       "    <tr>\n",
       "      <th>152</th>\n",
       "      <td>Volvo</td>\n",
       "    </tr>\n",
       "    <tr>\n",
       "      <th>153</th>\n",
       "      <td>Volvo</td>\n",
       "    </tr>\n",
       "    <tr>\n",
       "      <th>154</th>\n",
       "      <td>Volvo</td>\n",
       "    </tr>\n",
       "    <tr>\n",
       "      <th>155</th>\n",
       "      <td>Volvo</td>\n",
       "    </tr>\n",
       "    <tr>\n",
       "      <th>156</th>\n",
       "      <td>Volvo</td>\n",
       "    </tr>\n",
       "  </tbody>\n",
       "</table>\n",
       "<p>157 rows × 1 columns</p>\n",
       "</div>"
      ],
      "text/plain": [
       "        c1\n",
       "0    Acura\n",
       "1    Acura\n",
       "2    Acura\n",
       "3    Acura\n",
       "4     Audi\n",
       "..     ...\n",
       "152  Volvo\n",
       "153  Volvo\n",
       "154  Volvo\n",
       "155  Volvo\n",
       "156  Volvo\n",
       "\n",
       "[157 rows x 1 columns]"
      ]
     },
     "execution_count": 39,
     "metadata": {},
     "output_type": "execute_result"
    }
   ],
   "source": [
    "cat_enc = pd.DataFrame({'c1':data_imp2.T[0]})\n",
    "cat_enc"
   ]
  },
  {
   "cell_type": "markdown",
   "id": "184933ca",
   "metadata": {},
   "source": [
    "## Кодирование категорий целочисленными значениями"
   ]
  },
  {
   "cell_type": "markdown",
   "id": "303a5f91",
   "metadata": {},
   "source": [
    "### LabelEncoder"
   ]
  },
  {
   "cell_type": "code",
   "execution_count": 40,
   "id": "dca814ea",
   "metadata": {},
   "outputs": [],
   "source": [
    "from sklearn.preprocessing import LabelEncoder"
   ]
  },
  {
   "cell_type": "code",
   "execution_count": 41,
   "id": "cb6fb0cc",
   "metadata": {},
   "outputs": [
    {
     "data": {
      "text/plain": [
       "array(['Acura', 'Audi', 'BMW', 'Buick', 'Cadillac', 'Chevrolet', 'Dodge',\n",
       "       'Ford', 'Honda', 'Hyundai', 'Infiniti', 'Jaguar', 'Jeep', 'Lexus',\n",
       "       'Mitsubishi', 'Mercury', 'Mercedes-B', 'Nissan', 'Oldsmobile',\n",
       "       'Plymouth', 'Pontiac', 'Porsche', 'Saab', 'Subaru', 'Toyota',\n",
       "       'Volkswagen', 'Volvo'], dtype=object)"
      ]
     },
     "execution_count": 41,
     "metadata": {},
     "output_type": "execute_result"
    }
   ],
   "source": [
    "cat_enc['c1'].unique()"
   ]
  },
  {
   "cell_type": "code",
   "execution_count": 42,
   "id": "6ba48e64",
   "metadata": {},
   "outputs": [],
   "source": [
    "le = LabelEncoder()"
   ]
  },
  {
   "cell_type": "code",
   "execution_count": 43,
   "id": "bdf08a19",
   "metadata": {},
   "outputs": [],
   "source": [
    "cat_enc_le = le.fit_transform(cat_enc['c1'])"
   ]
  },
  {
   "cell_type": "code",
   "execution_count": 44,
   "id": "9e6836c9",
   "metadata": {},
   "outputs": [
    {
     "data": {
      "text/plain": [
       "array(['Acura', 'Audi', 'BMW', 'Buick', 'Cadillac', 'Chevrolet', 'Dodge',\n",
       "       'Ford', 'Honda', 'Hyundai', 'Infiniti', 'Jaguar', 'Jeep', 'Lexus',\n",
       "       'Mercedes-B', 'Mercury', 'Mitsubishi', 'Nissan', 'Oldsmobile',\n",
       "       'Plymouth', 'Pontiac', 'Porsche', 'Saab', 'Subaru', 'Toyota',\n",
       "       'Volkswagen', 'Volvo'], dtype=object)"
      ]
     },
     "execution_count": 44,
     "metadata": {},
     "output_type": "execute_result"
    }
   ],
   "source": [
    "le.classes_"
   ]
  },
  {
   "cell_type": "code",
   "execution_count": 45,
   "id": "c325b8ab",
   "metadata": {},
   "outputs": [
    {
     "data": {
      "text/plain": [
       "array([ 0,  0,  0,  0,  1,  1,  1,  2,  2,  2,  3,  3,  3,  3,  4,  4,  4,\n",
       "        4,  4,  5,  5,  5,  5,  5,  5,  5,  5,  5,  6,  6,  6,  6,  6,  6,\n",
       "        6,  6,  6,  6,  6,  6,  6,  6,  6,  6,  6,  6,  7,  7,  7,  7,  7,\n",
       "        7,  7,  7,  7,  7,  7,  8,  8,  8,  8,  8,  9,  9,  9, 10, 11, 12,\n",
       "       12, 12, 13, 13, 13, 13, 13, 13,  6,  6,  6, 16, 16, 16, 16, 16, 16,\n",
       "       16, 15, 15, 15, 15, 15, 15, 14, 14, 14, 14, 14, 14, 14, 14, 14, 17,\n",
       "       17, 17, 17, 17, 17, 17, 18, 18, 18, 18, 18, 18, 19, 19, 19, 19, 20,\n",
       "       20, 20, 20, 20, 20, 21, 21, 21, 22, 22,  6,  6,  6,  6,  6, 23, 23,\n",
       "       24, 24, 24, 24, 24, 24, 24, 24, 24, 25, 25, 25, 25, 25, 25, 26, 26,\n",
       "       26, 26, 26, 26])"
      ]
     },
     "execution_count": 45,
     "metadata": {},
     "output_type": "execute_result"
    }
   ],
   "source": [
    "cat_enc_le"
   ]
  },
  {
   "cell_type": "code",
   "execution_count": 46,
   "id": "dd97fd41",
   "metadata": {},
   "outputs": [
    {
     "data": {
      "text/plain": [
       "array([ 0,  1,  2,  3,  4,  5,  6,  7,  8,  9, 10, 11, 12, 13, 14, 15, 16,\n",
       "       17, 18, 19, 20, 21, 22, 23, 24, 25, 26])"
      ]
     },
     "execution_count": 46,
     "metadata": {},
     "output_type": "execute_result"
    }
   ],
   "source": [
    "np.unique(cat_enc_le)"
   ]
  },
  {
   "cell_type": "code",
   "execution_count": 47,
   "id": "466fe644",
   "metadata": {},
   "outputs": [
    {
     "data": {
      "text/plain": [
       "array(['Acura', 'Audi', 'BMW', 'Buick', 'Cadillac', 'Chevrolet', 'Dodge',\n",
       "       'Ford', 'Honda', 'Hyundai', 'Infiniti', 'Jaguar', 'Jeep', 'Lexus',\n",
       "       'Mercedes-B', 'Mercury', 'Mitsubishi', 'Nissan', 'Oldsmobile',\n",
       "       'Plymouth', 'Pontiac', 'Porsche', 'Saab', 'Subaru', 'Toyota',\n",
       "       'Volkswagen', 'Volvo'], dtype=object)"
      ]
     },
     "execution_count": 47,
     "metadata": {},
     "output_type": "execute_result"
    }
   ],
   "source": [
    "le.inverse_transform([ 0,  1,  2,  3,  4,  5,  6,  7,  8,  9, 10, 11, 12, 13, 14, 15, 16,\n",
    "       17, 18, 19, 20, 21, 22, 23, 24, 25, 26])"
   ]
  },
  {
   "cell_type": "markdown",
   "id": "bf958e8d",
   "metadata": {},
   "source": [
    "### OrdinalEncoder"
   ]
  },
  {
   "cell_type": "code",
   "execution_count": 48,
   "id": "b387846d",
   "metadata": {},
   "outputs": [],
   "source": [
    "from sklearn.preprocessing import OrdinalEncoder"
   ]
  },
  {
   "cell_type": "code",
   "execution_count": 49,
   "id": "d36ee024",
   "metadata": {},
   "outputs": [
    {
     "data": {
      "text/html": [
       "<div>\n",
       "<style scoped>\n",
       "    .dataframe tbody tr th:only-of-type {\n",
       "        vertical-align: middle;\n",
       "    }\n",
       "\n",
       "    .dataframe tbody tr th {\n",
       "        vertical-align: top;\n",
       "    }\n",
       "\n",
       "    .dataframe thead th {\n",
       "        text-align: right;\n",
       "    }\n",
       "</style>\n",
       "<table border=\"1\" class=\"dataframe\">\n",
       "  <thead>\n",
       "    <tr style=\"text-align: right;\">\n",
       "      <th></th>\n",
       "      <th>Manufacturer</th>\n",
       "      <th>Model</th>\n",
       "    </tr>\n",
       "  </thead>\n",
       "  <tbody>\n",
       "    <tr>\n",
       "      <th>0</th>\n",
       "      <td>Acura</td>\n",
       "      <td>Integra</td>\n",
       "    </tr>\n",
       "    <tr>\n",
       "      <th>1</th>\n",
       "      <td>Acura</td>\n",
       "      <td>TL</td>\n",
       "    </tr>\n",
       "    <tr>\n",
       "      <th>2</th>\n",
       "      <td>Acura</td>\n",
       "      <td>CL</td>\n",
       "    </tr>\n",
       "    <tr>\n",
       "      <th>3</th>\n",
       "      <td>Acura</td>\n",
       "      <td>RL</td>\n",
       "    </tr>\n",
       "    <tr>\n",
       "      <th>4</th>\n",
       "      <td>Audi</td>\n",
       "      <td>A4</td>\n",
       "    </tr>\n",
       "  </tbody>\n",
       "</table>\n",
       "</div>"
      ],
      "text/plain": [
       "  Manufacturer    Model\n",
       "0        Acura  Integra\n",
       "1        Acura       TL\n",
       "2        Acura       CL\n",
       "3        Acura       RL\n",
       "4         Audi       A4"
      ]
     },
     "execution_count": 49,
     "metadata": {},
     "output_type": "execute_result"
    }
   ],
   "source": [
    "data_oe = data_mod[['Manufacturer', 'Model']]\n",
    "data_oe.head()"
   ]
  },
  {
   "cell_type": "code",
   "execution_count": 50,
   "id": "86cbfc80",
   "metadata": {},
   "outputs": [
    {
     "data": {
      "text/plain": [
       "array([['Acura', 'Integra'],\n",
       "       ['Acura', 'TL'],\n",
       "       ['Acura', 'CL'],\n",
       "       ['Acura', 'RL'],\n",
       "       ['Audi', 'A4'],\n",
       "       ['Audi', 'A6'],\n",
       "       ['Audi', 'A8'],\n",
       "       ['BMW', '323i'],\n",
       "       ['BMW', '328i'],\n",
       "       ['BMW', '528i'],\n",
       "       ['Buick', 'Century'],\n",
       "       ['Buick', 'Regal'],\n",
       "       ['Buick', 'Park Avenue'],\n",
       "       ['Buick', 'LeSabre'],\n",
       "       ['Cadillac', 'DeVille'],\n",
       "       ['Cadillac', 'Seville'],\n",
       "       ['Cadillac', 'Eldorado'],\n",
       "       ['Cadillac', 'Catera'],\n",
       "       ['Cadillac', 'Escalade'],\n",
       "       ['Chevrolet', 'Cavalier'],\n",
       "       ['Chevrolet', 'Malibu'],\n",
       "       ['Chevrolet', 'Lumina'],\n",
       "       ['Chevrolet', 'Monte Carlo'],\n",
       "       ['Chevrolet', 'Camaro'],\n",
       "       ['Chevrolet', 'Corvette'],\n",
       "       ['Chevrolet', 'Prizm'],\n",
       "       ['Chevrolet', 'Metro'],\n",
       "       ['Chevrolet', 'Impala'],\n",
       "       ['???', 'Sebring Coupe'],\n",
       "       ['???', 'Sebring Conv.'],\n",
       "       ['???', 'Concorde'],\n",
       "       ['???', 'Cirrus'],\n",
       "       ['???', 'LHS'],\n",
       "       ['???', 'Town & Country'],\n",
       "       ['???', '300M'],\n",
       "       ['Dodge', 'Neon'],\n",
       "       ['Dodge', 'Avenger'],\n",
       "       ['Dodge', 'Stratus'],\n",
       "       ['Dodge', 'Intrepid'],\n",
       "       ['Dodge', 'Viper'],\n",
       "       ['Dodge', 'Ram Pickup'],\n",
       "       ['Dodge', 'Ram Wagon'],\n",
       "       ['Dodge', 'Ram Van'],\n",
       "       ['Dodge', 'Dakota'],\n",
       "       ['Dodge', 'Durango'],\n",
       "       ['Dodge', 'Caravan'],\n",
       "       ['Ford', 'Escort'],\n",
       "       ['Ford', 'Mustang'],\n",
       "       ['Ford', 'Contour'],\n",
       "       ['Ford', 'Taurus'],\n",
       "       ['Ford', 'Focus'],\n",
       "       ['Ford', 'Crown Victoria'],\n",
       "       ['Ford', 'Explorer'],\n",
       "       ['Ford', 'Windstar'],\n",
       "       ['Ford', 'Expedition'],\n",
       "       ['Ford', 'Ranger'],\n",
       "       ['Ford', 'F-Series'],\n",
       "       ['Honda', 'Civic'],\n",
       "       ['Honda', 'Accord'],\n",
       "       ['Honda', 'CR-V'],\n",
       "       ['Honda', 'Passport'],\n",
       "       ['Honda', 'Odyssey'],\n",
       "       ['Hyundai', 'Accent'],\n",
       "       ['Hyundai', 'Elantra'],\n",
       "       ['Hyundai', 'Sonata'],\n",
       "       ['Infiniti', 'I30'],\n",
       "       ['Jaguar', 'S-Type'],\n",
       "       ['Jeep', 'Wrangler'],\n",
       "       ['Jeep', 'Cherokee'],\n",
       "       ['Jeep', 'Grand Cherokee'],\n",
       "       ['Lexus', 'ES300'],\n",
       "       ['Lexus', 'GS300'],\n",
       "       ['Lexus', 'GS400'],\n",
       "       ['Lexus', 'LS400'],\n",
       "       ['Lexus', 'LX470'],\n",
       "       ['Lexus', 'RX300'],\n",
       "       ['???', 'Continental'],\n",
       "       ['???', 'Town car'],\n",
       "       ['???', 'Navigator'],\n",
       "       ['Mitsubishi', 'Mirage'],\n",
       "       ['Mitsubishi', 'Eclipse'],\n",
       "       ['Mitsubishi', 'Galant'],\n",
       "       ['Mitsubishi', 'Diamante'],\n",
       "       ['Mitsubishi', '3000GT'],\n",
       "       ['Mitsubishi', 'Montero'],\n",
       "       ['Mitsubishi', 'Montero Sport'],\n",
       "       ['Mercury', 'Mystique'],\n",
       "       ['Mercury', 'Cougar'],\n",
       "       ['Mercury', 'Sable'],\n",
       "       ['Mercury', 'Grand Marquis'],\n",
       "       ['Mercury', 'Mountaineer'],\n",
       "       ['Mercury', 'Villager'],\n",
       "       ['Mercedes-B', 'C-Class'],\n",
       "       ['Mercedes-B', 'E-Class'],\n",
       "       ['Mercedes-B', 'S-Class'],\n",
       "       ['Mercedes-B', 'SL-Class'],\n",
       "       ['Mercedes-B', 'SLK'],\n",
       "       ['Mercedes-B', 'SLK230'],\n",
       "       ['Mercedes-B', 'CLK Coupe'],\n",
       "       ['Mercedes-B', 'CL500'],\n",
       "       ['Mercedes-B', 'M-Class'],\n",
       "       ['Nissan', 'Sentra'],\n",
       "       ['Nissan', 'Altima'],\n",
       "       ['Nissan', 'Maxima'],\n",
       "       ['Nissan', 'Quest'],\n",
       "       ['Nissan', 'Pathfinder'],\n",
       "       ['Nissan', 'Xterra'],\n",
       "       ['Nissan', 'Frontier'],\n",
       "       ['Oldsmobile', 'Cutlass'],\n",
       "       ['Oldsmobile', 'Intrigue'],\n",
       "       ['Oldsmobile', 'Alero'],\n",
       "       ['Oldsmobile', 'Aurora'],\n",
       "       ['Oldsmobile', 'Bravada'],\n",
       "       ['Oldsmobile', 'Silhouette'],\n",
       "       ['Plymouth', 'Neon'],\n",
       "       ['Plymouth', 'Breeze'],\n",
       "       ['Plymouth', 'Voyager'],\n",
       "       ['Plymouth', 'Prowler'],\n",
       "       ['Pontiac', 'Sunfire'],\n",
       "       ['Pontiac', 'Grand Am'],\n",
       "       ['Pontiac', 'Firebird'],\n",
       "       ['Pontiac', 'Grand Prix'],\n",
       "       ['Pontiac', 'Bonneville'],\n",
       "       ['Pontiac', 'Montana'],\n",
       "       ['Porsche', 'Boxter'],\n",
       "       ['Porsche', 'Carrera Coupe'],\n",
       "       ['Porsche', 'Carrera Cabrio'],\n",
       "       ['Saab', '5-Sep'],\n",
       "       ['Saab', '3-Sep'],\n",
       "       ['???', 'SL'],\n",
       "       ['???', 'SC'],\n",
       "       ['???', 'SW'],\n",
       "       ['???', 'LW'],\n",
       "       ['???', 'LS'],\n",
       "       ['Subaru', 'Outback'],\n",
       "       ['Subaru', 'Forester'],\n",
       "       ['Toyota', 'Corolla'],\n",
       "       ['Toyota', 'Camry'],\n",
       "       ['Toyota', 'Avalon'],\n",
       "       ['Toyota', 'Celica'],\n",
       "       ['Toyota', 'Tacoma'],\n",
       "       ['Toyota', 'Sienna'],\n",
       "       ['Toyota', 'RAV4'],\n",
       "       ['Toyota', '4Runner'],\n",
       "       ['Toyota', 'Land Cruiser'],\n",
       "       ['Volkswagen', 'Golf'],\n",
       "       ['Volkswagen', 'Jetta'],\n",
       "       ['Volkswagen', 'Passat'],\n",
       "       ['Volkswagen', 'Cabrio'],\n",
       "       ['Volkswagen', 'GTI'],\n",
       "       ['Volkswagen', 'Beetle'],\n",
       "       ['Volvo', 'S40'],\n",
       "       ['Volvo', 'V40'],\n",
       "       ['Volvo', 'S70'],\n",
       "       ['Volvo', 'V70'],\n",
       "       ['Volvo', 'C70'],\n",
       "       ['Volvo', 'S80']], dtype=object)"
      ]
     },
     "execution_count": 50,
     "metadata": {},
     "output_type": "execute_result"
    }
   ],
   "source": [
    "imp4 = SimpleImputer(missing_values=np.nan, strategy='constant', fill_value='???')\n",
    "data_oe_filled = imp4.fit_transform(data_oe)\n",
    "data_oe_filled"
   ]
  },
  {
   "cell_type": "code",
   "execution_count": 51,
   "id": "aa9c8292",
   "metadata": {},
   "outputs": [
    {
     "data": {
      "text/plain": [
       "array([[  1.,  79.],\n",
       "       [  1., 143.],\n",
       "       [  1.,  25.],\n",
       "       [  1., 115.],\n",
       "       [  2.,   8.],\n",
       "       [  2.,   9.],\n",
       "       [  2.,  10.],\n",
       "       [  3.,   3.],\n",
       "       [  3.,   4.],\n",
       "       [  3.,   7.],\n",
       "       [  4.,  38.],\n",
       "       [  4., 121.],\n",
       "       [  4., 107.],\n",
       "       [  4.,  89.],\n",
       "       [  5.,  51.],\n",
       "       [  5., 137.],\n",
       "       [  5.,  58.],\n",
       "       [  5.,  35.],\n",
       "       [  5.,  59.],\n",
       "       [  6.,  36.],\n",
       "       [  6.,  92.],\n",
       "       [  6.,  90.],\n",
       "       [  6.,  97.],\n",
       "       [  6.,  30.],\n",
       "       [  6.,  46.],\n",
       "       [  6., 111.],\n",
       "       [  6.,  94.],\n",
       "       [  6.,  78.],\n",
       "       [  0., 135.],\n",
       "       [  0., 134.],\n",
       "       [  0.,  42.],\n",
       "       [  0.,  40.],\n",
       "       [  0.,  83.],\n",
       "       [  0., 146.],\n",
       "       [  0.,   2.],\n",
       "       [  7., 104.],\n",
       "       [  7.,  17.],\n",
       "       [  7., 141.],\n",
       "       [  7.,  80.],\n",
       "       [  7., 151.],\n",
       "       [  7., 117.],\n",
       "       [  7., 119.],\n",
       "       [  7., 118.],\n",
       "       [  7.,  50.],\n",
       "       [  7.,  53.],\n",
       "       [  7.,  32.],\n",
       "       [  8.,  60.],\n",
       "       [  8., 101.],\n",
       "       [  8.,  44.],\n",
       "       [  8., 145.],\n",
       "       [  8.,  65.],\n",
       "       [  8.,  48.],\n",
       "       [  8.,  62.],\n",
       "       [  8., 153.],\n",
       "       [  8.,  61.],\n",
       "       [  8., 120.],\n",
       "       [  8.,  63.],\n",
       "       [  9.,  41.],\n",
       "       [  9.,  12.],\n",
       "       [  9.,  28.],\n",
       "       [  9., 109.],\n",
       "       [  9., 105.],\n",
       "       [ 10.,  11.],\n",
       "       [ 10.,  57.],\n",
       "       [ 10., 140.],\n",
       "       [ 11.,  77.],\n",
       "       [ 12., 123.],\n",
       "       [ 13., 154.],\n",
       "       [ 13.,  39.],\n",
       "       [ 13.,  74.],\n",
       "       [ 14.,  55.],\n",
       "       [ 14.,  68.],\n",
       "       [ 14.,  69.],\n",
       "       [ 14.,  85.],\n",
       "       [ 14.,  87.],\n",
       "       [ 14., 116.],\n",
       "       [  0.,  43.],\n",
       "       [  0., 147.],\n",
       "       [  0., 103.],\n",
       "       [ 17.,  95.],\n",
       "       [ 17.,  56.],\n",
       "       [ 17.,  71.],\n",
       "       [ 17.,  52.],\n",
       "       [ 17.,   1.],\n",
       "       [ 17.,  98.],\n",
       "       [ 17.,  99.],\n",
       "       [ 16., 102.],\n",
       "       [ 16.,  47.],\n",
       "       [ 16., 133.],\n",
       "       [ 16.,  75.],\n",
       "       [ 16., 100.],\n",
       "       [ 16., 150.],\n",
       "       [ 15.,  23.],\n",
       "       [ 15.,  54.],\n",
       "       [ 15., 122.],\n",
       "       [ 15., 129.],\n",
       "       [ 15., 130.],\n",
       "       [ 15., 131.],\n",
       "       [ 15.,  27.],\n",
       "       [ 15.,  26.],\n",
       "       [ 15.,  91.],\n",
       "       [ 18., 136.],\n",
       "       [ 18.,  14.],\n",
       "       [ 18.,  93.],\n",
       "       [ 18., 113.],\n",
       "       [ 18., 110.],\n",
       "       [ 18., 155.],\n",
       "       [ 18.,  67.],\n",
       "       [ 19.,  49.],\n",
       "       [ 19.,  81.],\n",
       "       [ 19.,  13.],\n",
       "       [ 19.,  15.],\n",
       "       [ 19.,  21.],\n",
       "       [ 19., 139.],\n",
       "       [ 20., 104.],\n",
       "       [ 20.,  22.],\n",
       "       [ 20., 152.],\n",
       "       [ 20., 112.],\n",
       "       [ 21., 142.],\n",
       "       [ 21.,  73.],\n",
       "       [ 21.,  64.],\n",
       "       [ 21.,  76.],\n",
       "       [ 21.,  19.],\n",
       "       [ 21.,  96.],\n",
       "       [ 22.,  20.],\n",
       "       [ 22.,  34.],\n",
       "       [ 22.,  33.],\n",
       "       [ 23.,   6.],\n",
       "       [ 23.,   0.],\n",
       "       [  0., 128.],\n",
       "       [  0., 127.],\n",
       "       [  0., 132.],\n",
       "       [  0.,  86.],\n",
       "       [  0.,  84.],\n",
       "       [ 24., 106.],\n",
       "       [ 24.,  66.],\n",
       "       [ 25.,  45.],\n",
       "       [ 25.,  31.],\n",
       "       [ 25.,  16.],\n",
       "       [ 25.,  37.],\n",
       "       [ 25., 144.],\n",
       "       [ 25., 138.],\n",
       "       [ 25., 114.],\n",
       "       [ 25.,   5.],\n",
       "       [ 25.,  88.],\n",
       "       [ 26.,  72.],\n",
       "       [ 26.,  82.],\n",
       "       [ 26., 108.],\n",
       "       [ 26.,  29.],\n",
       "       [ 26.,  70.],\n",
       "       [ 26.,  18.],\n",
       "       [ 27., 124.],\n",
       "       [ 27., 148.],\n",
       "       [ 27., 125.],\n",
       "       [ 27., 149.],\n",
       "       [ 27.,  24.],\n",
       "       [ 27., 126.]])"
      ]
     },
     "execution_count": 51,
     "metadata": {},
     "output_type": "execute_result"
    }
   ],
   "source": [
    "oe = OrdinalEncoder()\n",
    "cat_enc_oe = oe.fit_transform(data_oe_filled)\n",
    "cat_enc_oe"
   ]
  },
  {
   "cell_type": "markdown",
   "id": "9e8e4f8b",
   "metadata": {},
   "source": [
    "Уникальные значения столбца \"Производитель\":"
   ]
  },
  {
   "cell_type": "code",
   "execution_count": 52,
   "id": "91bd5db0",
   "metadata": {},
   "outputs": [
    {
     "data": {
      "text/plain": [
       "array([ 0.,  1.,  2.,  3.,  4.,  5.,  6.,  7.,  8.,  9., 10., 11., 12.,\n",
       "       13., 14., 15., 16., 17., 18., 19., 20., 21., 22., 23., 24., 25.,\n",
       "       26., 27.])"
      ]
     },
     "execution_count": 52,
     "metadata": {},
     "output_type": "execute_result"
    }
   ],
   "source": [
    "np.unique(cat_enc_oe[:, 0])"
   ]
  },
  {
   "cell_type": "markdown",
   "id": "a32f8a31",
   "metadata": {},
   "source": [
    "Уникальные значения столбца \"Модель\":"
   ]
  },
  {
   "cell_type": "code",
   "execution_count": 53,
   "id": "9b25d2f1",
   "metadata": {},
   "outputs": [
    {
     "data": {
      "text/plain": [
       "array([  0.,   1.,   2.,   3.,   4.,   5.,   6.,   7.,   8.,   9.,  10.,\n",
       "        11.,  12.,  13.,  14.,  15.,  16.,  17.,  18.,  19.,  20.,  21.,\n",
       "        22.,  23.,  24.,  25.,  26.,  27.,  28.,  29.,  30.,  31.,  32.,\n",
       "        33.,  34.,  35.,  36.,  37.,  38.,  39.,  40.,  41.,  42.,  43.,\n",
       "        44.,  45.,  46.,  47.,  48.,  49.,  50.,  51.,  52.,  53.,  54.,\n",
       "        55.,  56.,  57.,  58.,  59.,  60.,  61.,  62.,  63.,  64.,  65.,\n",
       "        66.,  67.,  68.,  69.,  70.,  71.,  72.,  73.,  74.,  75.,  76.,\n",
       "        77.,  78.,  79.,  80.,  81.,  82.,  83.,  84.,  85.,  86.,  87.,\n",
       "        88.,  89.,  90.,  91.,  92.,  93.,  94.,  95.,  96.,  97.,  98.,\n",
       "        99., 100., 101., 102., 103., 104., 105., 106., 107., 108., 109.,\n",
       "       110., 111., 112., 113., 114., 115., 116., 117., 118., 119., 120.,\n",
       "       121., 122., 123., 124., 125., 126., 127., 128., 129., 130., 131.,\n",
       "       132., 133., 134., 135., 136., 137., 138., 139., 140., 141., 142.,\n",
       "       143., 144., 145., 146., 147., 148., 149., 150., 151., 152., 153.,\n",
       "       154., 155.])"
      ]
     },
     "execution_count": 53,
     "metadata": {},
     "output_type": "execute_result"
    }
   ],
   "source": [
    "np.unique(cat_enc_oe[:, 1])"
   ]
  },
  {
   "cell_type": "markdown",
   "id": "374ae927",
   "metadata": {},
   "source": [
    "Все значения:"
   ]
  },
  {
   "cell_type": "code",
   "execution_count": 54,
   "id": "b7ef5cbd",
   "metadata": {},
   "outputs": [
    {
     "data": {
      "text/plain": [
       "[array(['???', 'Acura', 'Audi', 'BMW', 'Buick', 'Cadillac', 'Chevrolet',\n",
       "        'Dodge', 'Ford', 'Honda', 'Hyundai', 'Infiniti', 'Jaguar', 'Jeep',\n",
       "        'Lexus', 'Mercedes-B', 'Mercury', 'Mitsubishi', 'Nissan',\n",
       "        'Oldsmobile', 'Plymouth', 'Pontiac', 'Porsche', 'Saab', 'Subaru',\n",
       "        'Toyota', 'Volkswagen', 'Volvo'], dtype=object),\n",
       " array(['3-Sep', '3000GT', '300M', '323i', '328i', '4Runner', '5-Sep',\n",
       "        '528i', 'A4', 'A6', 'A8', 'Accent', 'Accord', 'Alero', 'Altima',\n",
       "        'Aurora', 'Avalon', 'Avenger', 'Beetle', 'Bonneville', 'Boxter',\n",
       "        'Bravada', 'Breeze', 'C-Class', 'C70', 'CL', 'CL500', 'CLK Coupe',\n",
       "        'CR-V', 'Cabrio', 'Camaro', 'Camry', 'Caravan', 'Carrera Cabrio',\n",
       "        'Carrera Coupe', 'Catera', 'Cavalier', 'Celica', 'Century',\n",
       "        'Cherokee', 'Cirrus', 'Civic', 'Concorde', 'Continental',\n",
       "        'Contour', 'Corolla', 'Corvette', 'Cougar', 'Crown Victoria',\n",
       "        'Cutlass', 'Dakota', 'DeVille', 'Diamante', 'Durango', 'E-Class',\n",
       "        'ES300', 'Eclipse', 'Elantra', 'Eldorado', 'Escalade', 'Escort',\n",
       "        'Expedition', 'Explorer', 'F-Series', 'Firebird', 'Focus',\n",
       "        'Forester', 'Frontier', 'GS300', 'GS400', 'GTI', 'Galant', 'Golf',\n",
       "        'Grand Am', 'Grand Cherokee', 'Grand Marquis', 'Grand Prix', 'I30',\n",
       "        'Impala', 'Integra', 'Intrepid', 'Intrigue', 'Jetta', 'LHS', 'LS',\n",
       "        'LS400', 'LW', 'LX470', 'Land Cruiser', 'LeSabre', 'Lumina',\n",
       "        'M-Class', 'Malibu', 'Maxima', 'Metro', 'Mirage', 'Montana',\n",
       "        'Monte Carlo', 'Montero', 'Montero Sport', 'Mountaineer',\n",
       "        'Mustang', 'Mystique', 'Navigator', 'Neon', 'Odyssey', 'Outback',\n",
       "        'Park Avenue', 'Passat', 'Passport', 'Pathfinder', 'Prizm',\n",
       "        'Prowler', 'Quest', 'RAV4', 'RL', 'RX300', 'Ram Pickup', 'Ram Van',\n",
       "        'Ram Wagon', 'Ranger', 'Regal', 'S-Class', 'S-Type', 'S40', 'S70',\n",
       "        'S80', 'SC', 'SL', 'SL-Class', 'SLK', 'SLK230', 'SW', 'Sable',\n",
       "        'Sebring Conv.', 'Sebring Coupe', 'Sentra', 'Seville', 'Sienna',\n",
       "        'Silhouette', 'Sonata', 'Stratus', 'Sunfire', 'TL', 'Tacoma',\n",
       "        'Taurus', 'Town & Country', 'Town car', 'V40', 'V70', 'Villager',\n",
       "        'Viper', 'Voyager', 'Windstar', 'Wrangler', 'Xterra'], dtype=object)]"
      ]
     },
     "execution_count": 54,
     "metadata": {},
     "output_type": "execute_result"
    }
   ],
   "source": [
    "oe.categories_"
   ]
  },
  {
   "cell_type": "code",
   "execution_count": 55,
   "id": "b2d2a8bf",
   "metadata": {},
   "outputs": [
    {
     "data": {
      "text/plain": [
       "array([['Acura', 'Integra'],\n",
       "       ['Acura', 'TL'],\n",
       "       ['Acura', 'CL'],\n",
       "       ['Acura', 'RL'],\n",
       "       ['Audi', 'A4'],\n",
       "       ['Audi', 'A6'],\n",
       "       ['Audi', 'A8'],\n",
       "       ['BMW', '323i'],\n",
       "       ['BMW', '328i'],\n",
       "       ['BMW', '528i'],\n",
       "       ['Buick', 'Century'],\n",
       "       ['Buick', 'Regal'],\n",
       "       ['Buick', 'Park Avenue'],\n",
       "       ['Buick', 'LeSabre'],\n",
       "       ['Cadillac', 'DeVille'],\n",
       "       ['Cadillac', 'Seville'],\n",
       "       ['Cadillac', 'Eldorado'],\n",
       "       ['Cadillac', 'Catera'],\n",
       "       ['Cadillac', 'Escalade'],\n",
       "       ['Chevrolet', 'Cavalier'],\n",
       "       ['Chevrolet', 'Malibu'],\n",
       "       ['Chevrolet', 'Lumina'],\n",
       "       ['Chevrolet', 'Monte Carlo'],\n",
       "       ['Chevrolet', 'Camaro'],\n",
       "       ['Chevrolet', 'Corvette'],\n",
       "       ['Chevrolet', 'Prizm'],\n",
       "       ['Chevrolet', 'Metro'],\n",
       "       ['Chevrolet', 'Impala'],\n",
       "       ['???', 'Sebring Coupe'],\n",
       "       ['???', 'Sebring Conv.'],\n",
       "       ['???', 'Concorde'],\n",
       "       ['???', 'Cirrus'],\n",
       "       ['???', 'LHS'],\n",
       "       ['???', 'Town & Country'],\n",
       "       ['???', '300M'],\n",
       "       ['Dodge', 'Neon'],\n",
       "       ['Dodge', 'Avenger'],\n",
       "       ['Dodge', 'Stratus'],\n",
       "       ['Dodge', 'Intrepid'],\n",
       "       ['Dodge', 'Viper'],\n",
       "       ['Dodge', 'Ram Pickup'],\n",
       "       ['Dodge', 'Ram Wagon'],\n",
       "       ['Dodge', 'Ram Van'],\n",
       "       ['Dodge', 'Dakota'],\n",
       "       ['Dodge', 'Durango'],\n",
       "       ['Dodge', 'Caravan'],\n",
       "       ['Ford', 'Escort'],\n",
       "       ['Ford', 'Mustang'],\n",
       "       ['Ford', 'Contour'],\n",
       "       ['Ford', 'Taurus'],\n",
       "       ['Ford', 'Focus'],\n",
       "       ['Ford', 'Crown Victoria'],\n",
       "       ['Ford', 'Explorer'],\n",
       "       ['Ford', 'Windstar'],\n",
       "       ['Ford', 'Expedition'],\n",
       "       ['Ford', 'Ranger'],\n",
       "       ['Ford', 'F-Series'],\n",
       "       ['Honda', 'Civic'],\n",
       "       ['Honda', 'Accord'],\n",
       "       ['Honda', 'CR-V'],\n",
       "       ['Honda', 'Passport'],\n",
       "       ['Honda', 'Odyssey'],\n",
       "       ['Hyundai', 'Accent'],\n",
       "       ['Hyundai', 'Elantra'],\n",
       "       ['Hyundai', 'Sonata'],\n",
       "       ['Infiniti', 'I30'],\n",
       "       ['Jaguar', 'S-Type'],\n",
       "       ['Jeep', 'Wrangler'],\n",
       "       ['Jeep', 'Cherokee'],\n",
       "       ['Jeep', 'Grand Cherokee'],\n",
       "       ['Lexus', 'ES300'],\n",
       "       ['Lexus', 'GS300'],\n",
       "       ['Lexus', 'GS400'],\n",
       "       ['Lexus', 'LS400'],\n",
       "       ['Lexus', 'LX470'],\n",
       "       ['Lexus', 'RX300'],\n",
       "       ['???', 'Continental'],\n",
       "       ['???', 'Town car'],\n",
       "       ['???', 'Navigator'],\n",
       "       ['Mitsubishi', 'Mirage'],\n",
       "       ['Mitsubishi', 'Eclipse'],\n",
       "       ['Mitsubishi', 'Galant'],\n",
       "       ['Mitsubishi', 'Diamante'],\n",
       "       ['Mitsubishi', '3000GT'],\n",
       "       ['Mitsubishi', 'Montero'],\n",
       "       ['Mitsubishi', 'Montero Sport'],\n",
       "       ['Mercury', 'Mystique'],\n",
       "       ['Mercury', 'Cougar'],\n",
       "       ['Mercury', 'Sable'],\n",
       "       ['Mercury', 'Grand Marquis'],\n",
       "       ['Mercury', 'Mountaineer'],\n",
       "       ['Mercury', 'Villager'],\n",
       "       ['Mercedes-B', 'C-Class'],\n",
       "       ['Mercedes-B', 'E-Class'],\n",
       "       ['Mercedes-B', 'S-Class'],\n",
       "       ['Mercedes-B', 'SL-Class'],\n",
       "       ['Mercedes-B', 'SLK'],\n",
       "       ['Mercedes-B', 'SLK230'],\n",
       "       ['Mercedes-B', 'CLK Coupe'],\n",
       "       ['Mercedes-B', 'CL500'],\n",
       "       ['Mercedes-B', 'M-Class'],\n",
       "       ['Nissan', 'Sentra'],\n",
       "       ['Nissan', 'Altima'],\n",
       "       ['Nissan', 'Maxima'],\n",
       "       ['Nissan', 'Quest'],\n",
       "       ['Nissan', 'Pathfinder'],\n",
       "       ['Nissan', 'Xterra'],\n",
       "       ['Nissan', 'Frontier'],\n",
       "       ['Oldsmobile', 'Cutlass'],\n",
       "       ['Oldsmobile', 'Intrigue'],\n",
       "       ['Oldsmobile', 'Alero'],\n",
       "       ['Oldsmobile', 'Aurora'],\n",
       "       ['Oldsmobile', 'Bravada'],\n",
       "       ['Oldsmobile', 'Silhouette'],\n",
       "       ['Plymouth', 'Neon'],\n",
       "       ['Plymouth', 'Breeze'],\n",
       "       ['Plymouth', 'Voyager'],\n",
       "       ['Plymouth', 'Prowler'],\n",
       "       ['Pontiac', 'Sunfire'],\n",
       "       ['Pontiac', 'Grand Am'],\n",
       "       ['Pontiac', 'Firebird'],\n",
       "       ['Pontiac', 'Grand Prix'],\n",
       "       ['Pontiac', 'Bonneville'],\n",
       "       ['Pontiac', 'Montana'],\n",
       "       ['Porsche', 'Boxter'],\n",
       "       ['Porsche', 'Carrera Coupe'],\n",
       "       ['Porsche', 'Carrera Cabrio'],\n",
       "       ['Saab', '5-Sep'],\n",
       "       ['Saab', '3-Sep'],\n",
       "       ['???', 'SL'],\n",
       "       ['???', 'SC'],\n",
       "       ['???', 'SW'],\n",
       "       ['???', 'LW'],\n",
       "       ['???', 'LS'],\n",
       "       ['Subaru', 'Outback'],\n",
       "       ['Subaru', 'Forester'],\n",
       "       ['Toyota', 'Corolla'],\n",
       "       ['Toyota', 'Camry'],\n",
       "       ['Toyota', 'Avalon'],\n",
       "       ['Toyota', 'Celica'],\n",
       "       ['Toyota', 'Tacoma'],\n",
       "       ['Toyota', 'Sienna'],\n",
       "       ['Toyota', 'RAV4'],\n",
       "       ['Toyota', '4Runner'],\n",
       "       ['Toyota', 'Land Cruiser'],\n",
       "       ['Volkswagen', 'Golf'],\n",
       "       ['Volkswagen', 'Jetta'],\n",
       "       ['Volkswagen', 'Passat'],\n",
       "       ['Volkswagen', 'Cabrio'],\n",
       "       ['Volkswagen', 'GTI'],\n",
       "       ['Volkswagen', 'Beetle'],\n",
       "       ['Volvo', 'S40'],\n",
       "       ['Volvo', 'V40'],\n",
       "       ['Volvo', 'S70'],\n",
       "       ['Volvo', 'V70'],\n",
       "       ['Volvo', 'C70'],\n",
       "       ['Volvo', 'S80']], dtype=object)"
      ]
     },
     "execution_count": 55,
     "metadata": {},
     "output_type": "execute_result"
    }
   ],
   "source": [
    "oe.inverse_transform(cat_enc_oe)"
   ]
  },
  {
   "cell_type": "markdown",
   "id": "2baddcde",
   "metadata": {},
   "source": [
    "### Кодирование шкал порядка"
   ]
  },
  {
   "cell_type": "markdown",
   "id": "ba119def",
   "metadata": {},
   "source": [
    "Для кодирования шкал порядка воспользуемся функцией map:"
   ]
  },
  {
   "cell_type": "code",
   "execution_count": 56,
   "id": "f9176862",
   "metadata": {},
   "outputs": [],
   "source": [
    "sizes = ['small', 'medium', 'large', 'small', 'medium', 'large', 'small', 'medium', 'large']"
   ]
  },
  {
   "cell_type": "code",
   "execution_count": 57,
   "id": "956fb454",
   "metadata": {},
   "outputs": [
    {
     "data": {
      "text/html": [
       "<div>\n",
       "<style scoped>\n",
       "    .dataframe tbody tr th:only-of-type {\n",
       "        vertical-align: middle;\n",
       "    }\n",
       "\n",
       "    .dataframe tbody tr th {\n",
       "        vertical-align: top;\n",
       "    }\n",
       "\n",
       "    .dataframe thead th {\n",
       "        text-align: right;\n",
       "    }\n",
       "</style>\n",
       "<table border=\"1\" class=\"dataframe\">\n",
       "  <thead>\n",
       "    <tr style=\"text-align: right;\">\n",
       "      <th></th>\n",
       "      <th>sizes</th>\n",
       "    </tr>\n",
       "  </thead>\n",
       "  <tbody>\n",
       "    <tr>\n",
       "      <th>0</th>\n",
       "      <td>small</td>\n",
       "    </tr>\n",
       "    <tr>\n",
       "      <th>1</th>\n",
       "      <td>medium</td>\n",
       "    </tr>\n",
       "    <tr>\n",
       "      <th>2</th>\n",
       "      <td>large</td>\n",
       "    </tr>\n",
       "    <tr>\n",
       "      <th>3</th>\n",
       "      <td>small</td>\n",
       "    </tr>\n",
       "    <tr>\n",
       "      <th>4</th>\n",
       "      <td>medium</td>\n",
       "    </tr>\n",
       "    <tr>\n",
       "      <th>5</th>\n",
       "      <td>large</td>\n",
       "    </tr>\n",
       "    <tr>\n",
       "      <th>6</th>\n",
       "      <td>small</td>\n",
       "    </tr>\n",
       "    <tr>\n",
       "      <th>7</th>\n",
       "      <td>medium</td>\n",
       "    </tr>\n",
       "    <tr>\n",
       "      <th>8</th>\n",
       "      <td>large</td>\n",
       "    </tr>\n",
       "  </tbody>\n",
       "</table>\n",
       "</div>"
      ],
      "text/plain": [
       "    sizes\n",
       "0   small\n",
       "1  medium\n",
       "2   large\n",
       "3   small\n",
       "4  medium\n",
       "5   large\n",
       "6   small\n",
       "7  medium\n",
       "8   large"
      ]
     },
     "execution_count": 57,
     "metadata": {},
     "output_type": "execute_result"
    }
   ],
   "source": [
    "pd_sizes = pd.DataFrame(data={'sizes':sizes})\n",
    "pd_sizes"
   ]
  },
  {
   "cell_type": "code",
   "execution_count": 58,
   "id": "a183f2ab",
   "metadata": {},
   "outputs": [
    {
     "data": {
      "text/html": [
       "<div>\n",
       "<style scoped>\n",
       "    .dataframe tbody tr th:only-of-type {\n",
       "        vertical-align: middle;\n",
       "    }\n",
       "\n",
       "    .dataframe tbody tr th {\n",
       "        vertical-align: top;\n",
       "    }\n",
       "\n",
       "    .dataframe thead th {\n",
       "        text-align: right;\n",
       "    }\n",
       "</style>\n",
       "<table border=\"1\" class=\"dataframe\">\n",
       "  <thead>\n",
       "    <tr style=\"text-align: right;\">\n",
       "      <th></th>\n",
       "      <th>sizes</th>\n",
       "      <th>sizes_codes</th>\n",
       "    </tr>\n",
       "  </thead>\n",
       "  <tbody>\n",
       "    <tr>\n",
       "      <th>0</th>\n",
       "      <td>small</td>\n",
       "      <td>1</td>\n",
       "    </tr>\n",
       "    <tr>\n",
       "      <th>1</th>\n",
       "      <td>medium</td>\n",
       "      <td>2</td>\n",
       "    </tr>\n",
       "    <tr>\n",
       "      <th>2</th>\n",
       "      <td>large</td>\n",
       "      <td>3</td>\n",
       "    </tr>\n",
       "    <tr>\n",
       "      <th>3</th>\n",
       "      <td>small</td>\n",
       "      <td>1</td>\n",
       "    </tr>\n",
       "    <tr>\n",
       "      <th>4</th>\n",
       "      <td>medium</td>\n",
       "      <td>2</td>\n",
       "    </tr>\n",
       "    <tr>\n",
       "      <th>5</th>\n",
       "      <td>large</td>\n",
       "      <td>3</td>\n",
       "    </tr>\n",
       "    <tr>\n",
       "      <th>6</th>\n",
       "      <td>small</td>\n",
       "      <td>1</td>\n",
       "    </tr>\n",
       "    <tr>\n",
       "      <th>7</th>\n",
       "      <td>medium</td>\n",
       "      <td>2</td>\n",
       "    </tr>\n",
       "    <tr>\n",
       "      <th>8</th>\n",
       "      <td>large</td>\n",
       "      <td>3</td>\n",
       "    </tr>\n",
       "  </tbody>\n",
       "</table>\n",
       "</div>"
      ],
      "text/plain": [
       "    sizes  sizes_codes\n",
       "0   small            1\n",
       "1  medium            2\n",
       "2   large            3\n",
       "3   small            1\n",
       "4  medium            2\n",
       "5   large            3\n",
       "6   small            1\n",
       "7  medium            2\n",
       "8   large            3"
      ]
     },
     "execution_count": 58,
     "metadata": {},
     "output_type": "execute_result"
    }
   ],
   "source": [
    "pd_sizes['sizes_codes'] = pd_sizes['sizes'].map({'small':1, 'medium':2, 'large':3})\n",
    "pd_sizes"
   ]
  },
  {
   "cell_type": "code",
   "execution_count": 59,
   "id": "3a300579",
   "metadata": {},
   "outputs": [
    {
     "data": {
      "text/html": [
       "<div>\n",
       "<style scoped>\n",
       "    .dataframe tbody tr th:only-of-type {\n",
       "        vertical-align: middle;\n",
       "    }\n",
       "\n",
       "    .dataframe tbody tr th {\n",
       "        vertical-align: top;\n",
       "    }\n",
       "\n",
       "    .dataframe thead th {\n",
       "        text-align: right;\n",
       "    }\n",
       "</style>\n",
       "<table border=\"1\" class=\"dataframe\">\n",
       "  <thead>\n",
       "    <tr style=\"text-align: right;\">\n",
       "      <th></th>\n",
       "      <th>sizes</th>\n",
       "      <th>sizes_codes</th>\n",
       "      <th>sizes_decoded</th>\n",
       "    </tr>\n",
       "  </thead>\n",
       "  <tbody>\n",
       "    <tr>\n",
       "      <th>0</th>\n",
       "      <td>small</td>\n",
       "      <td>1</td>\n",
       "      <td>small</td>\n",
       "    </tr>\n",
       "    <tr>\n",
       "      <th>1</th>\n",
       "      <td>medium</td>\n",
       "      <td>2</td>\n",
       "      <td>medium</td>\n",
       "    </tr>\n",
       "    <tr>\n",
       "      <th>2</th>\n",
       "      <td>large</td>\n",
       "      <td>3</td>\n",
       "      <td>large</td>\n",
       "    </tr>\n",
       "    <tr>\n",
       "      <th>3</th>\n",
       "      <td>small</td>\n",
       "      <td>1</td>\n",
       "      <td>small</td>\n",
       "    </tr>\n",
       "    <tr>\n",
       "      <th>4</th>\n",
       "      <td>medium</td>\n",
       "      <td>2</td>\n",
       "      <td>medium</td>\n",
       "    </tr>\n",
       "    <tr>\n",
       "      <th>5</th>\n",
       "      <td>large</td>\n",
       "      <td>3</td>\n",
       "      <td>large</td>\n",
       "    </tr>\n",
       "    <tr>\n",
       "      <th>6</th>\n",
       "      <td>small</td>\n",
       "      <td>1</td>\n",
       "      <td>small</td>\n",
       "    </tr>\n",
       "    <tr>\n",
       "      <th>7</th>\n",
       "      <td>medium</td>\n",
       "      <td>2</td>\n",
       "      <td>medium</td>\n",
       "    </tr>\n",
       "    <tr>\n",
       "      <th>8</th>\n",
       "      <td>large</td>\n",
       "      <td>3</td>\n",
       "      <td>large</td>\n",
       "    </tr>\n",
       "  </tbody>\n",
       "</table>\n",
       "</div>"
      ],
      "text/plain": [
       "    sizes  sizes_codes sizes_decoded\n",
       "0   small            1         small\n",
       "1  medium            2        medium\n",
       "2   large            3         large\n",
       "3   small            1         small\n",
       "4  medium            2        medium\n",
       "5   large            3         large\n",
       "6   small            1         small\n",
       "7  medium            2        medium\n",
       "8   large            3         large"
      ]
     },
     "execution_count": 59,
     "metadata": {},
     "output_type": "execute_result"
    }
   ],
   "source": [
    "pd_sizes['sizes_decoded'] = pd_sizes['sizes_codes'].map({1:'small', 2:'medium', 3:'large'})\n",
    "pd_sizes"
   ]
  },
  {
   "cell_type": "markdown",
   "id": "31cc8355",
   "metadata": {},
   "source": [
    "### Кодирование категорий наборами бинарных значений - one-hot encoding"
   ]
  },
  {
   "cell_type": "markdown",
   "id": "9ebaa26c",
   "metadata": {},
   "source": [
    "Каждое уникальное значение признака становится новым отдельным признаком:"
   ]
  },
  {
   "cell_type": "code",
   "execution_count": 60,
   "id": "313e254f",
   "metadata": {},
   "outputs": [],
   "source": [
    "from sklearn.preprocessing import OneHotEncoder"
   ]
  },
  {
   "cell_type": "code",
   "execution_count": 61,
   "id": "235b573c",
   "metadata": {},
   "outputs": [],
   "source": [
    "ohe = OneHotEncoder()\n",
    "cat_enc_ohe = ohe.fit_transform(cat_enc[['c1']])"
   ]
  },
  {
   "cell_type": "code",
   "execution_count": 62,
   "id": "4bb539d9",
   "metadata": {},
   "outputs": [
    {
     "data": {
      "text/plain": [
       "(157, 1)"
      ]
     },
     "execution_count": 62,
     "metadata": {},
     "output_type": "execute_result"
    }
   ],
   "source": [
    "cat_enc.shape"
   ]
  },
  {
   "cell_type": "code",
   "execution_count": 63,
   "id": "1be862b5",
   "metadata": {},
   "outputs": [
    {
     "data": {
      "text/plain": [
       "(157, 27)"
      ]
     },
     "execution_count": 63,
     "metadata": {},
     "output_type": "execute_result"
    }
   ],
   "source": [
    "cat_enc_ohe.shape"
   ]
  },
  {
   "cell_type": "code",
   "execution_count": 64,
   "id": "a9eb264b",
   "metadata": {},
   "outputs": [
    {
     "data": {
      "text/plain": [
       "<157x27 sparse matrix of type '<class 'numpy.float64'>'\n",
       "\twith 157 stored elements in Compressed Sparse Row format>"
      ]
     },
     "execution_count": 64,
     "metadata": {},
     "output_type": "execute_result"
    }
   ],
   "source": [
    "cat_enc_ohe"
   ]
  },
  {
   "cell_type": "code",
   "execution_count": 65,
   "id": "6a71212d",
   "metadata": {},
   "outputs": [
    {
     "data": {
      "text/plain": [
       "matrix([[1., 0., 0., 0., 0., 0., 0., 0., 0., 0., 0., 0., 0., 0., 0., 0.,\n",
       "         0., 0., 0., 0., 0., 0., 0., 0., 0., 0., 0.],\n",
       "        [1., 0., 0., 0., 0., 0., 0., 0., 0., 0., 0., 0., 0., 0., 0., 0.,\n",
       "         0., 0., 0., 0., 0., 0., 0., 0., 0., 0., 0.],\n",
       "        [1., 0., 0., 0., 0., 0., 0., 0., 0., 0., 0., 0., 0., 0., 0., 0.,\n",
       "         0., 0., 0., 0., 0., 0., 0., 0., 0., 0., 0.],\n",
       "        [1., 0., 0., 0., 0., 0., 0., 0., 0., 0., 0., 0., 0., 0., 0., 0.,\n",
       "         0., 0., 0., 0., 0., 0., 0., 0., 0., 0., 0.],\n",
       "        [0., 1., 0., 0., 0., 0., 0., 0., 0., 0., 0., 0., 0., 0., 0., 0.,\n",
       "         0., 0., 0., 0., 0., 0., 0., 0., 0., 0., 0.],\n",
       "        [0., 1., 0., 0., 0., 0., 0., 0., 0., 0., 0., 0., 0., 0., 0., 0.,\n",
       "         0., 0., 0., 0., 0., 0., 0., 0., 0., 0., 0.],\n",
       "        [0., 1., 0., 0., 0., 0., 0., 0., 0., 0., 0., 0., 0., 0., 0., 0.,\n",
       "         0., 0., 0., 0., 0., 0., 0., 0., 0., 0., 0.],\n",
       "        [0., 0., 1., 0., 0., 0., 0., 0., 0., 0., 0., 0., 0., 0., 0., 0.,\n",
       "         0., 0., 0., 0., 0., 0., 0., 0., 0., 0., 0.],\n",
       "        [0., 0., 1., 0., 0., 0., 0., 0., 0., 0., 0., 0., 0., 0., 0., 0.,\n",
       "         0., 0., 0., 0., 0., 0., 0., 0., 0., 0., 0.],\n",
       "        [0., 0., 1., 0., 0., 0., 0., 0., 0., 0., 0., 0., 0., 0., 0., 0.,\n",
       "         0., 0., 0., 0., 0., 0., 0., 0., 0., 0., 0.]])"
      ]
     },
     "execution_count": 65,
     "metadata": {},
     "output_type": "execute_result"
    }
   ],
   "source": [
    "cat_enc_ohe.todense()[0:10]"
   ]
  },
  {
   "cell_type": "code",
   "execution_count": 66,
   "id": "51fd1a42",
   "metadata": {},
   "outputs": [
    {
     "data": {
      "text/html": [
       "<div>\n",
       "<style scoped>\n",
       "    .dataframe tbody tr th:only-of-type {\n",
       "        vertical-align: middle;\n",
       "    }\n",
       "\n",
       "    .dataframe tbody tr th {\n",
       "        vertical-align: top;\n",
       "    }\n",
       "\n",
       "    .dataframe thead th {\n",
       "        text-align: right;\n",
       "    }\n",
       "</style>\n",
       "<table border=\"1\" class=\"dataframe\">\n",
       "  <thead>\n",
       "    <tr style=\"text-align: right;\">\n",
       "      <th></th>\n",
       "      <th>c1</th>\n",
       "    </tr>\n",
       "  </thead>\n",
       "  <tbody>\n",
       "    <tr>\n",
       "      <th>0</th>\n",
       "      <td>Acura</td>\n",
       "    </tr>\n",
       "    <tr>\n",
       "      <th>1</th>\n",
       "      <td>Acura</td>\n",
       "    </tr>\n",
       "    <tr>\n",
       "      <th>2</th>\n",
       "      <td>Acura</td>\n",
       "    </tr>\n",
       "    <tr>\n",
       "      <th>3</th>\n",
       "      <td>Acura</td>\n",
       "    </tr>\n",
       "    <tr>\n",
       "      <th>4</th>\n",
       "      <td>Audi</td>\n",
       "    </tr>\n",
       "    <tr>\n",
       "      <th>5</th>\n",
       "      <td>Audi</td>\n",
       "    </tr>\n",
       "    <tr>\n",
       "      <th>6</th>\n",
       "      <td>Audi</td>\n",
       "    </tr>\n",
       "    <tr>\n",
       "      <th>7</th>\n",
       "      <td>BMW</td>\n",
       "    </tr>\n",
       "    <tr>\n",
       "      <th>8</th>\n",
       "      <td>BMW</td>\n",
       "    </tr>\n",
       "    <tr>\n",
       "      <th>9</th>\n",
       "      <td>BMW</td>\n",
       "    </tr>\n",
       "  </tbody>\n",
       "</table>\n",
       "</div>"
      ],
      "text/plain": [
       "      c1\n",
       "0  Acura\n",
       "1  Acura\n",
       "2  Acura\n",
       "3  Acura\n",
       "4   Audi\n",
       "5   Audi\n",
       "6   Audi\n",
       "7    BMW\n",
       "8    BMW\n",
       "9    BMW"
      ]
     },
     "execution_count": 66,
     "metadata": {},
     "output_type": "execute_result"
    }
   ],
   "source": [
    "cat_enc.head(10)"
   ]
  },
  {
   "cell_type": "code",
   "execution_count": 67,
   "id": "d2ce718a",
   "metadata": {},
   "outputs": [
    {
     "data": {
      "text/html": [
       "<div>\n",
       "<style scoped>\n",
       "    .dataframe tbody tr th:only-of-type {\n",
       "        vertical-align: middle;\n",
       "    }\n",
       "\n",
       "    .dataframe tbody tr th {\n",
       "        vertical-align: top;\n",
       "    }\n",
       "\n",
       "    .dataframe thead th {\n",
       "        text-align: right;\n",
       "    }\n",
       "</style>\n",
       "<table border=\"1\" class=\"dataframe\">\n",
       "  <thead>\n",
       "    <tr style=\"text-align: right;\">\n",
       "      <th></th>\n",
       "      <th>c1_Acura</th>\n",
       "      <th>c1_Audi</th>\n",
       "      <th>c1_BMW</th>\n",
       "      <th>c1_Buick</th>\n",
       "      <th>c1_Cadillac</th>\n",
       "      <th>c1_Chevrolet</th>\n",
       "      <th>c1_Dodge</th>\n",
       "      <th>c1_Ford</th>\n",
       "      <th>c1_Honda</th>\n",
       "      <th>c1_Hyundai</th>\n",
       "      <th>...</th>\n",
       "      <th>c1_Nissan</th>\n",
       "      <th>c1_Oldsmobile</th>\n",
       "      <th>c1_Plymouth</th>\n",
       "      <th>c1_Pontiac</th>\n",
       "      <th>c1_Porsche</th>\n",
       "      <th>c1_Saab</th>\n",
       "      <th>c1_Subaru</th>\n",
       "      <th>c1_Toyota</th>\n",
       "      <th>c1_Volkswagen</th>\n",
       "      <th>c1_Volvo</th>\n",
       "    </tr>\n",
       "  </thead>\n",
       "  <tbody>\n",
       "    <tr>\n",
       "      <th>0</th>\n",
       "      <td>1</td>\n",
       "      <td>0</td>\n",
       "      <td>0</td>\n",
       "      <td>0</td>\n",
       "      <td>0</td>\n",
       "      <td>0</td>\n",
       "      <td>0</td>\n",
       "      <td>0</td>\n",
       "      <td>0</td>\n",
       "      <td>0</td>\n",
       "      <td>...</td>\n",
       "      <td>0</td>\n",
       "      <td>0</td>\n",
       "      <td>0</td>\n",
       "      <td>0</td>\n",
       "      <td>0</td>\n",
       "      <td>0</td>\n",
       "      <td>0</td>\n",
       "      <td>0</td>\n",
       "      <td>0</td>\n",
       "      <td>0</td>\n",
       "    </tr>\n",
       "    <tr>\n",
       "      <th>1</th>\n",
       "      <td>1</td>\n",
       "      <td>0</td>\n",
       "      <td>0</td>\n",
       "      <td>0</td>\n",
       "      <td>0</td>\n",
       "      <td>0</td>\n",
       "      <td>0</td>\n",
       "      <td>0</td>\n",
       "      <td>0</td>\n",
       "      <td>0</td>\n",
       "      <td>...</td>\n",
       "      <td>0</td>\n",
       "      <td>0</td>\n",
       "      <td>0</td>\n",
       "      <td>0</td>\n",
       "      <td>0</td>\n",
       "      <td>0</td>\n",
       "      <td>0</td>\n",
       "      <td>0</td>\n",
       "      <td>0</td>\n",
       "      <td>0</td>\n",
       "    </tr>\n",
       "    <tr>\n",
       "      <th>2</th>\n",
       "      <td>1</td>\n",
       "      <td>0</td>\n",
       "      <td>0</td>\n",
       "      <td>0</td>\n",
       "      <td>0</td>\n",
       "      <td>0</td>\n",
       "      <td>0</td>\n",
       "      <td>0</td>\n",
       "      <td>0</td>\n",
       "      <td>0</td>\n",
       "      <td>...</td>\n",
       "      <td>0</td>\n",
       "      <td>0</td>\n",
       "      <td>0</td>\n",
       "      <td>0</td>\n",
       "      <td>0</td>\n",
       "      <td>0</td>\n",
       "      <td>0</td>\n",
       "      <td>0</td>\n",
       "      <td>0</td>\n",
       "      <td>0</td>\n",
       "    </tr>\n",
       "    <tr>\n",
       "      <th>3</th>\n",
       "      <td>1</td>\n",
       "      <td>0</td>\n",
       "      <td>0</td>\n",
       "      <td>0</td>\n",
       "      <td>0</td>\n",
       "      <td>0</td>\n",
       "      <td>0</td>\n",
       "      <td>0</td>\n",
       "      <td>0</td>\n",
       "      <td>0</td>\n",
       "      <td>...</td>\n",
       "      <td>0</td>\n",
       "      <td>0</td>\n",
       "      <td>0</td>\n",
       "      <td>0</td>\n",
       "      <td>0</td>\n",
       "      <td>0</td>\n",
       "      <td>0</td>\n",
       "      <td>0</td>\n",
       "      <td>0</td>\n",
       "      <td>0</td>\n",
       "    </tr>\n",
       "    <tr>\n",
       "      <th>4</th>\n",
       "      <td>0</td>\n",
       "      <td>1</td>\n",
       "      <td>0</td>\n",
       "      <td>0</td>\n",
       "      <td>0</td>\n",
       "      <td>0</td>\n",
       "      <td>0</td>\n",
       "      <td>0</td>\n",
       "      <td>0</td>\n",
       "      <td>0</td>\n",
       "      <td>...</td>\n",
       "      <td>0</td>\n",
       "      <td>0</td>\n",
       "      <td>0</td>\n",
       "      <td>0</td>\n",
       "      <td>0</td>\n",
       "      <td>0</td>\n",
       "      <td>0</td>\n",
       "      <td>0</td>\n",
       "      <td>0</td>\n",
       "      <td>0</td>\n",
       "    </tr>\n",
       "  </tbody>\n",
       "</table>\n",
       "<p>5 rows × 27 columns</p>\n",
       "</div>"
      ],
      "text/plain": [
       "   c1_Acura  c1_Audi  c1_BMW  c1_Buick  c1_Cadillac  c1_Chevrolet  c1_Dodge  \\\n",
       "0         1        0       0         0            0             0         0   \n",
       "1         1        0       0         0            0             0         0   \n",
       "2         1        0       0         0            0             0         0   \n",
       "3         1        0       0         0            0             0         0   \n",
       "4         0        1       0         0            0             0         0   \n",
       "\n",
       "   c1_Ford  c1_Honda  c1_Hyundai  ...  c1_Nissan  c1_Oldsmobile  c1_Plymouth  \\\n",
       "0        0         0           0  ...          0              0            0   \n",
       "1        0         0           0  ...          0              0            0   \n",
       "2        0         0           0  ...          0              0            0   \n",
       "3        0         0           0  ...          0              0            0   \n",
       "4        0         0           0  ...          0              0            0   \n",
       "\n",
       "   c1_Pontiac  c1_Porsche  c1_Saab  c1_Subaru  c1_Toyota  c1_Volkswagen  \\\n",
       "0           0           0        0          0          0              0   \n",
       "1           0           0        0          0          0              0   \n",
       "2           0           0        0          0          0              0   \n",
       "3           0           0        0          0          0              0   \n",
       "4           0           0        0          0          0              0   \n",
       "\n",
       "   c1_Volvo  \n",
       "0         0  \n",
       "1         0  \n",
       "2         0  \n",
       "3         0  \n",
       "4         0  \n",
       "\n",
       "[5 rows x 27 columns]"
      ]
     },
     "execution_count": 67,
     "metadata": {},
     "output_type": "execute_result"
    }
   ],
   "source": [
    "pd.get_dummies(cat_enc).head()"
   ]
  },
  {
   "cell_type": "code",
   "execution_count": 68,
   "id": "dc3e4003",
   "metadata": {},
   "outputs": [
    {
     "data": {
      "text/html": [
       "<div>\n",
       "<style scoped>\n",
       "    .dataframe tbody tr th:only-of-type {\n",
       "        vertical-align: middle;\n",
       "    }\n",
       "\n",
       "    .dataframe tbody tr th {\n",
       "        vertical-align: top;\n",
       "    }\n",
       "\n",
       "    .dataframe thead th {\n",
       "        text-align: right;\n",
       "    }\n",
       "</style>\n",
       "<table border=\"1\" class=\"dataframe\">\n",
       "  <thead>\n",
       "    <tr style=\"text-align: right;\">\n",
       "      <th></th>\n",
       "      <th>Manufacturer_Acura</th>\n",
       "      <th>Manufacturer_Audi</th>\n",
       "      <th>Manufacturer_BMW</th>\n",
       "      <th>Manufacturer_Buick</th>\n",
       "      <th>Manufacturer_Cadillac</th>\n",
       "      <th>Manufacturer_Chevrolet</th>\n",
       "      <th>Manufacturer_Dodge</th>\n",
       "      <th>Manufacturer_Ford</th>\n",
       "      <th>Manufacturer_Honda</th>\n",
       "      <th>Manufacturer_Hyundai</th>\n",
       "      <th>...</th>\n",
       "      <th>Manufacturer_Oldsmobile</th>\n",
       "      <th>Manufacturer_Plymouth</th>\n",
       "      <th>Manufacturer_Pontiac</th>\n",
       "      <th>Manufacturer_Porsche</th>\n",
       "      <th>Manufacturer_Saab</th>\n",
       "      <th>Manufacturer_Subaru</th>\n",
       "      <th>Manufacturer_Toyota</th>\n",
       "      <th>Manufacturer_Volkswagen</th>\n",
       "      <th>Manufacturer_Volvo</th>\n",
       "      <th>Manufacturer_nan</th>\n",
       "    </tr>\n",
       "  </thead>\n",
       "  <tbody>\n",
       "    <tr>\n",
       "      <th>0</th>\n",
       "      <td>1</td>\n",
       "      <td>0</td>\n",
       "      <td>0</td>\n",
       "      <td>0</td>\n",
       "      <td>0</td>\n",
       "      <td>0</td>\n",
       "      <td>0</td>\n",
       "      <td>0</td>\n",
       "      <td>0</td>\n",
       "      <td>0</td>\n",
       "      <td>...</td>\n",
       "      <td>0</td>\n",
       "      <td>0</td>\n",
       "      <td>0</td>\n",
       "      <td>0</td>\n",
       "      <td>0</td>\n",
       "      <td>0</td>\n",
       "      <td>0</td>\n",
       "      <td>0</td>\n",
       "      <td>0</td>\n",
       "      <td>0</td>\n",
       "    </tr>\n",
       "    <tr>\n",
       "      <th>1</th>\n",
       "      <td>1</td>\n",
       "      <td>0</td>\n",
       "      <td>0</td>\n",
       "      <td>0</td>\n",
       "      <td>0</td>\n",
       "      <td>0</td>\n",
       "      <td>0</td>\n",
       "      <td>0</td>\n",
       "      <td>0</td>\n",
       "      <td>0</td>\n",
       "      <td>...</td>\n",
       "      <td>0</td>\n",
       "      <td>0</td>\n",
       "      <td>0</td>\n",
       "      <td>0</td>\n",
       "      <td>0</td>\n",
       "      <td>0</td>\n",
       "      <td>0</td>\n",
       "      <td>0</td>\n",
       "      <td>0</td>\n",
       "      <td>0</td>\n",
       "    </tr>\n",
       "    <tr>\n",
       "      <th>2</th>\n",
       "      <td>1</td>\n",
       "      <td>0</td>\n",
       "      <td>0</td>\n",
       "      <td>0</td>\n",
       "      <td>0</td>\n",
       "      <td>0</td>\n",
       "      <td>0</td>\n",
       "      <td>0</td>\n",
       "      <td>0</td>\n",
       "      <td>0</td>\n",
       "      <td>...</td>\n",
       "      <td>0</td>\n",
       "      <td>0</td>\n",
       "      <td>0</td>\n",
       "      <td>0</td>\n",
       "      <td>0</td>\n",
       "      <td>0</td>\n",
       "      <td>0</td>\n",
       "      <td>0</td>\n",
       "      <td>0</td>\n",
       "      <td>0</td>\n",
       "    </tr>\n",
       "    <tr>\n",
       "      <th>3</th>\n",
       "      <td>1</td>\n",
       "      <td>0</td>\n",
       "      <td>0</td>\n",
       "      <td>0</td>\n",
       "      <td>0</td>\n",
       "      <td>0</td>\n",
       "      <td>0</td>\n",
       "      <td>0</td>\n",
       "      <td>0</td>\n",
       "      <td>0</td>\n",
       "      <td>...</td>\n",
       "      <td>0</td>\n",
       "      <td>0</td>\n",
       "      <td>0</td>\n",
       "      <td>0</td>\n",
       "      <td>0</td>\n",
       "      <td>0</td>\n",
       "      <td>0</td>\n",
       "      <td>0</td>\n",
       "      <td>0</td>\n",
       "      <td>0</td>\n",
       "    </tr>\n",
       "    <tr>\n",
       "      <th>4</th>\n",
       "      <td>0</td>\n",
       "      <td>1</td>\n",
       "      <td>0</td>\n",
       "      <td>0</td>\n",
       "      <td>0</td>\n",
       "      <td>0</td>\n",
       "      <td>0</td>\n",
       "      <td>0</td>\n",
       "      <td>0</td>\n",
       "      <td>0</td>\n",
       "      <td>...</td>\n",
       "      <td>0</td>\n",
       "      <td>0</td>\n",
       "      <td>0</td>\n",
       "      <td>0</td>\n",
       "      <td>0</td>\n",
       "      <td>0</td>\n",
       "      <td>0</td>\n",
       "      <td>0</td>\n",
       "      <td>0</td>\n",
       "      <td>0</td>\n",
       "    </tr>\n",
       "  </tbody>\n",
       "</table>\n",
       "<p>5 rows × 28 columns</p>\n",
       "</div>"
      ],
      "text/plain": [
       "   Manufacturer_Acura  Manufacturer_Audi  Manufacturer_BMW  \\\n",
       "0                   1                  0                 0   \n",
       "1                   1                  0                 0   \n",
       "2                   1                  0                 0   \n",
       "3                   1                  0                 0   \n",
       "4                   0                  1                 0   \n",
       "\n",
       "   Manufacturer_Buick  Manufacturer_Cadillac  Manufacturer_Chevrolet  \\\n",
       "0                   0                      0                       0   \n",
       "1                   0                      0                       0   \n",
       "2                   0                      0                       0   \n",
       "3                   0                      0                       0   \n",
       "4                   0                      0                       0   \n",
       "\n",
       "   Manufacturer_Dodge  Manufacturer_Ford  Manufacturer_Honda  \\\n",
       "0                   0                  0                   0   \n",
       "1                   0                  0                   0   \n",
       "2                   0                  0                   0   \n",
       "3                   0                  0                   0   \n",
       "4                   0                  0                   0   \n",
       "\n",
       "   Manufacturer_Hyundai  ...  Manufacturer_Oldsmobile  Manufacturer_Plymouth  \\\n",
       "0                     0  ...                        0                      0   \n",
       "1                     0  ...                        0                      0   \n",
       "2                     0  ...                        0                      0   \n",
       "3                     0  ...                        0                      0   \n",
       "4                     0  ...                        0                      0   \n",
       "\n",
       "   Manufacturer_Pontiac  Manufacturer_Porsche  Manufacturer_Saab  \\\n",
       "0                     0                     0                  0   \n",
       "1                     0                     0                  0   \n",
       "2                     0                     0                  0   \n",
       "3                     0                     0                  0   \n",
       "4                     0                     0                  0   \n",
       "\n",
       "   Manufacturer_Subaru  Manufacturer_Toyota  Manufacturer_Volkswagen  \\\n",
       "0                    0                    0                        0   \n",
       "1                    0                    0                        0   \n",
       "2                    0                    0                        0   \n",
       "3                    0                    0                        0   \n",
       "4                    0                    0                        0   \n",
       "\n",
       "   Manufacturer_Volvo  Manufacturer_nan  \n",
       "0                   0                 0  \n",
       "1                   0                 0  \n",
       "2                   0                 0  \n",
       "3                   0                 0  \n",
       "4                   0                 0  \n",
       "\n",
       "[5 rows x 28 columns]"
      ]
     },
     "execution_count": 68,
     "metadata": {},
     "output_type": "execute_result"
    }
   ],
   "source": [
    "pd.get_dummies(cat_temp_data, dummy_na=True).head()"
   ]
  },
  {
   "cell_type": "markdown",
   "id": "99006b06",
   "metadata": {},
   "source": [
    "## Масштабирование данных"
   ]
  },
  {
   "cell_type": "markdown",
   "id": "d0b2563b",
   "metadata": {},
   "source": [
    "Масштабирование предполагает изменение диапазона измерения величины. Применяют MinMax масштабирование и масштабирование данных на основе Z-оценки."
   ]
  },
  {
   "cell_type": "code",
   "execution_count": 69,
   "id": "6e2520e7",
   "metadata": {},
   "outputs": [],
   "source": [
    "from sklearn.preprocessing import MinMaxScaler, StandardScaler, Normalizer"
   ]
  },
  {
   "cell_type": "markdown",
   "id": "ce681736",
   "metadata": {},
   "source": [
    "### MinMax масштабирование"
   ]
  },
  {
   "cell_type": "code",
   "execution_count": 70,
   "id": "c92490bf",
   "metadata": {},
   "outputs": [],
   "source": [
    "sc1 = MinMaxScaler()\n",
    "sc1_data = sc1.fit_transform(data[['Price_in_thousands']])"
   ]
  },
  {
   "cell_type": "code",
   "execution_count": 71,
   "id": "49f3a7e6",
   "metadata": {},
   "outputs": [
    {
     "data": {
      "image/png": "[encoded data removed]",
      "text/plain": [
       "<Figure size 432x288 with 1 Axes>"
      ]
     },
     "metadata": {},
     "output_type": "display_data"
    }
   ],
   "source": [
    "plt.hist(data['Price_in_thousands'], 50)\n",
    "plt.show()"
   ]
  },
  {
   "cell_type": "code",
   "execution_count": 72,
   "id": "19739260",
   "metadata": {},
   "outputs": [
    {
     "data": {
      "image/png": "[encoded data removed]",
      "text/plain": [
       "<Figure size 432x288 with 1 Axes>"
      ]
     },
     "metadata": {},
     "output_type": "display_data"
    }
   ],
   "source": [
    "plt.hist(sc1_data, 50)\n",
    "plt.show()"
   ]
  },
  {
   "cell_type": "markdown",
   "id": "c4969dfa",
   "metadata": {},
   "source": [
    "### Масштабирование данных на основе Z-оценки"
   ]
  },
  {
   "cell_type": "code",
   "execution_count": 73,
   "id": "af7c2415",
   "metadata": {},
   "outputs": [],
   "source": [
    "sc2 = StandardScaler()\n",
    "sc2_data = sc2.fit_transform(data[['Price_in_thousands']])"
   ]
  },
  {
   "cell_type": "code",
   "execution_count": 74,
   "id": "d54695c8",
   "metadata": {},
   "outputs": [
    {
     "data": {
      "image/png": "[encoded data removed]",
      "text/plain": [
       "<Figure size 432x288 with 1 Axes>"
      ]
     },
     "metadata": {},
     "output_type": "display_data"
    }
   ],
   "source": [
    "plt.hist(sc2_data, 50)\n",
    "plt.show()"
   ]
  }
 ],
 "metadata": {
  "authors": [
   {
    "name": "Анцифров Никита Сергеевич"
   }
  ],
  "group": "ИУ5-61Б",
  "kernelspec": {
   "display_name": "Python 3 (ipykernel)",
   "language": "python",
   "name": "python3"
  },
  "lab_number": 2,
  "language_info": {
   "codemirror_mode": {
    "name": "ipython",
    "version": 3
   },
   "file_extension": ".py",
   "mimetype": "text/x-python",
   "name": "python",
   "nbconvert_exporter": "python",
   "pygments_lexer": "ipython3",
   "version": "3.9.9"
  },
  "title": "Обработка пропусков в данных, кодирование категориальных признаков, масштабирование данных"
 },
 "nbformat": 4,
 "nbformat_minor": 5
}
